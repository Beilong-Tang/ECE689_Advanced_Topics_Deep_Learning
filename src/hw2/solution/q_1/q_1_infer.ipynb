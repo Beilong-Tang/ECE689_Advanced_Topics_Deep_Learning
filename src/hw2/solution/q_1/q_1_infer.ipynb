{
 "cells": [
  {
   "cell_type": "markdown",
   "id": "97b4e2fc",
   "metadata": {},
   "source": [
    "## Question 1: Training a Light Score-Based Generative Model with Sliced Score Matching on MNIST"
   ]
  },
  {
   "cell_type": "markdown",
   "id": "1fe92379",
   "metadata": {},
   "source": [
    "**Objective:** Implement and train a lightweight score-based generative model using the sliced score matching technique. The goal is to learn the data distribution's score for generating new samples similar to the training data.\n",
    "\n",
    "**Dataset:** Use the MNIST dataset, which consists of 70,000 28x28 grayscale images of handwritten digits (0-9). It is divided into 60,000 training images and 10,000 test images. MNIST can be found at https://pytorch.org/vision/main/generated/torchvision.datasets.MNIST.html To reduce computational complexity, you can downscale the MNIST images to 7x7. Both score models trained with 28x28 and with 7x7 MNIST will get full credits.\n",
    "\n",
    "**Tasks:**\n",
    "1. Data preparation: Normalize the MNIST images to have pixel values between -1 and 1.\n",
    "2. Model Architecture: Construct a simple convolutional neural network (CNN) for estimating the data distribution's score. This network should accept a noisy image as input and output a score estimate.\n",
    "3. Sliced Score Matching: Implement the sliced score matching objective. Add Gaussian noise to the input images, and train the model to approximate the score of the noise-perturbed data distribution.\n",
    "4. Training: Use a smaller batch size if necessary to accommodate memory constraints. Train the model using a straightforward optimizer like Adam, with a conservative learning rate (e.g., 1e-3). Consider reducing the number of training epochs and implementing checkpointing to save the model intermittently.\n",
    "5. Evaluation and Generation: Evaluate the model qualitatively by visual inspection of generated digits.\n",
    "\n",
    "(A helpful website: https://github.com/mfkasim1/score-based-tutorial/blob/main/01-SGM-without-SDE.ipynb)"
   ]
  },
  {
   "cell_type": "code",
   "execution_count": 30,
   "id": "31339160",
   "metadata": {},
   "outputs": [],
   "source": [
    "# Import pacakges\n",
    "\n",
    "import torch\n",
    "from torch import nn\n",
    "import torch.nn.functional as F\n",
    "import numpy as np\n",
    "from torchvision import datasets, transforms\n",
    "import itertools\n",
    "import matplotlib.pyplot as plt\n",
    "from functools import partial"
   ]
  },
  {
   "cell_type": "code",
   "execution_count": 31,
   "id": "f9377eb9",
   "metadata": {},
   "outputs": [
    {
     "name": "stdout",
     "output_type": "stream",
     "text": [
      "device: cuda:4\n"
     ]
    }
   ],
   "source": [
    "# Set the random seeds\n",
    "torch.manual_seed(0)\n",
    "np.random.seed(0)\n",
    "\n",
    "torch.backends.cudnn.deterministic = True\n",
    "torch.backends.cudnn.benchmark = False\n",
    "device = torch.device('cuda:4' if torch.cuda.is_available() else 'cpu')\n",
    "print(\"device:\", device)"
   ]
  },
  {
   "cell_type": "code",
   "execution_count": 32,
   "id": "e1839cbf",
   "metadata": {},
   "outputs": [],
   "source": [
    "EMBEDDING_DIM = 20 # The dimension of the embeddings\n",
    "\n",
    "class AutoEncoder(nn.Module):\n",
    "    \"\"\"\n",
    "    A simple autoencoder for images. \n",
    "    self.linear1 generates the intermediate embeddings that we use for the normalizing flow.\n",
    "    \"\"\"\n",
    "    def __init__(self):\n",
    "        super().__init__()\n",
    "        \n",
    "        # Encoding layers\n",
    "        self.conv1 = nn.Conv2d(in_channels=1, out_channels=32, stride=2, kernel_size=3, bias=False, padding=1)\n",
    "        self.conv2 = nn.Conv2d(in_channels=32, out_channels=64, stride=2, kernel_size=3, bias=False, padding=1)\n",
    "        self.linear1 = nn.Linear(in_features=3136, out_features=EMBEDDING_DIM)\n",
    "        \n",
    "        # Decoding layers\n",
    "        self.linear2 = nn.Linear(in_features=EMBEDDING_DIM, out_features=3136)\n",
    "        self.convt1 = nn.ConvTranspose2d(in_channels=64, out_channels=32, stride=2, kernel_size=3, padding=1, output_padding=1)\n",
    "        self.convt2 = nn.ConvTranspose2d(in_channels=32, out_channels=1, stride=2, kernel_size=3, padding=1, output_padding=1)\n",
    "\n",
    "\n",
    "    def forward(self, x):\n",
    "        \n",
    "        emb = self.encoder(x)\n",
    "        _x = self.decoder(emb)\n",
    "        \n",
    "        return _x, emb\n",
    "    \n",
    "    def decoder(self, emb):\n",
    "\n",
    "        _x = torch.relu(self.linear2(emb))\n",
    "        _x = _x.view(-1, 64, 7, 7)\n",
    "        _x = torch.relu(self.convt1(_x))\n",
    "        _x = self.convt2(_x)\n",
    "        \n",
    "        return _x\n",
    "    \n",
    "    def encoder(self, x):\n",
    "        _x = torch.relu(self.conv1(x))\n",
    "        _x = torch.relu(self.conv2(_x))\n",
    "        sh = _x.shape\n",
    "\n",
    "        _x = torch.relu(torch.flatten(_x, 1))\n",
    "        \n",
    "        emb = self.linear1(_x)\n",
    "        \n",
    "        return emb"
   ]
  },
  {
   "cell_type": "code",
   "execution_count": 33,
   "id": "79710f6c",
   "metadata": {},
   "outputs": [],
   "source": [
    "BATCH_SIZE = 100 # Batch size\n",
    "# Load the dataset\n",
    "train_set = datasets.MNIST('./data', train=True, download=True,\n",
    "                       transform=transforms.Compose([\n",
    "                           transforms.ToTensor()\n",
    "                       ]))\n",
    "train_loader = torch.utils.data.DataLoader(train_set, BATCH_SIZE)\n",
    "\n",
    "test_set = datasets.MNIST('./data', train=False, download=True,\n",
    "                       transform=transforms.Compose([\n",
    "                           transforms.ToTensor()\n",
    "                       ]))"
   ]
  },
  {
   "cell_type": "code",
   "execution_count": 34,
   "id": "d390a6cd",
   "metadata": {},
   "outputs": [
    {
     "name": "stdout",
     "output_type": "stream",
     "text": [
      "Epoch #1\n",
      "E 0, 0.000/600: Loss: 0.6272263526916504\n",
      "E 0, 200.000/600: Loss: 0.15188480913639069\n",
      "E 0, 400.000/600: Loss: 0.1100916787981987\n",
      "Epoch #2\n",
      "E 1, 0.000/600: Loss: 0.10403434932231903\n",
      "E 1, 200.000/600: Loss: 0.10046017169952393\n",
      "E 1, 400.000/600: Loss: 0.09293199330568314\n",
      "Epoch #3\n",
      "E 2, 0.000/600: Loss: 0.09380815923213959\n",
      "E 2, 200.000/600: Loss: 0.0928587093949318\n",
      "E 2, 400.000/600: Loss: 0.08815015107393265\n",
      "Epoch #4\n",
      "E 3, 0.000/600: Loss: 0.08926934748888016\n",
      "E 3, 200.000/600: Loss: 0.08879468590021133\n",
      "E 3, 400.000/600: Loss: 0.08568316698074341\n",
      "Epoch #5\n",
      "E 4, 0.000/600: Loss: 0.0869121104478836\n",
      "E 4, 200.000/600: Loss: 0.08662018179893494\n",
      "E 4, 400.000/600: Loss: 0.08432313054800034\n",
      "Epoch #6\n",
      "E 5, 0.000/600: Loss: 0.08575589954853058\n",
      "E 5, 200.000/600: Loss: 0.08528918772935867\n",
      "E 5, 400.000/600: Loss: 0.08336909860372543\n",
      "Epoch #7\n",
      "E 6, 0.000/600: Loss: 0.08453305810689926\n",
      "E 6, 200.000/600: Loss: 0.08421993255615234\n",
      "E 6, 400.000/600: Loss: 0.08274777233600616\n",
      "Epoch #8\n",
      "E 7, 0.000/600: Loss: 0.08364737778902054\n",
      "E 7, 200.000/600: Loss: 0.08362843841314316\n",
      "E 7, 400.000/600: Loss: 0.08226627856492996\n",
      "Epoch #9\n",
      "E 8, 0.000/600: Loss: 0.08296506106853485\n",
      "E 8, 200.000/600: Loss: 0.08298887312412262\n",
      "E 8, 400.000/600: Loss: 0.08178599923849106\n",
      "Epoch #10\n",
      "E 9, 0.000/600: Loss: 0.08245766907930374\n",
      "E 9, 200.000/600: Loss: 0.08240485936403275\n",
      "E 9, 400.000/600: Loss: 0.08129638433456421\n"
     ]
    }
   ],
   "source": [
    "AE_EPOCHS = 10 # Epochs for training the autoencoder\n",
    "# We use a binary cross-entropy loss for the reconstruction error\n",
    "loss_f = nn.BCELoss()\n",
    "\n",
    "# Build the autoencoder\n",
    "autoencoder = AutoEncoder()\n",
    "autoencoder = autoencoder.to(device)\n",
    "\n",
    "optimizer = torch.optim.Adam(itertools.chain(autoencoder.parameters()),\n",
    "                             lr=1e-3, weight_decay=1e-5)\n",
    "\n",
    "for i in range(AE_EPOCHS):\n",
    "    print('Epoch #{}'.format(i+1))\n",
    "\n",
    "    losses = []\n",
    "    for batch_idx, data in enumerate(train_loader):\n",
    "\n",
    "        x, _ = data\n",
    "        x = x.to(device)\n",
    "\n",
    "        # Run the autoencoder\n",
    "        _x, emb = autoencoder(x)\n",
    "        _x = torch.sigmoid(_x)\n",
    "\n",
    "        # Compute loss\n",
    "        rec_loss = loss_f(_x, x)\n",
    "\n",
    "        if batch_idx % 200 == 0:\n",
    "            print(f\"E {i}, {batch_idx:.3f}/{len(train_loader)}: Loss: {rec_loss.item()}\")\n",
    "\n",
    "        autoencoder.zero_grad()\n",
    "        rec_loss.backward()\n",
    "        optimizer.step()"
   ]
  },
  {
   "cell_type": "code",
   "execution_count": 36,
   "id": "94a4039b",
   "metadata": {},
   "outputs": [],
   "source": [
    "torch.save(autoencoder.state_dict(), \"autoencoder.pth\")\n",
    "# autoencoder.load_state_dict(torch.load(\"autoencoder.pth\", map_location='cpu'))"
   ]
  },
  {
   "cell_type": "code",
   "execution_count": 37,
   "id": "be70ae45",
   "metadata": {},
   "outputs": [
    {
     "name": "stdout",
     "output_type": "stream",
     "text": [
      "torch.Size([1, 1, 28, 28])\n"
     ]
    },
    {
     "data": {
      "image/png": "[encoded data removed]",
      "text/plain": [
       "<Figure size 640x480 with 1 Axes>"
      ]
     },
     "metadata": {},
     "output_type": "display_data"
    }
   ],
   "source": [
    "test_image = test_set[0][0].unsqueeze(0)\n",
    "test_image = test_image.to(device)\n",
    "_o, emb = autoencoder(test_image)\n",
    "_o = torch.sigmoid(_o)\n",
    "print(_o.shape)\n",
    "\n",
    "## Display the image\n",
    "plt.imshow(_o.squeeze().detach().cpu(), cmap='gray');\n",
    "plt.title(\"AutoEncoder Output\");"
   ]
  },
  {
   "cell_type": "code",
   "execution_count": 38,
   "id": "f7ede0e0",
   "metadata": {},
   "outputs": [
    {
     "name": "stderr",
     "output_type": "stream",
     "text": [
      "100%|██████████| 600/600 [00:10<00:00, 56.07it/s]"
     ]
    },
    {
     "name": "stdout",
     "output_type": "stream",
     "text": [
      "60000\n"
     ]
    },
    {
     "name": "stderr",
     "output_type": "stream",
     "text": [
      "\n"
     ]
    }
   ],
   "source": [
    "## 1. Extract all the data to embeddings\n",
    "import tqdm\n",
    "\n",
    "embs = []\n",
    "with torch.no_grad():\n",
    "    for data in tqdm.tqdm(train_loader):\n",
    "        x, _ = data\n",
    "        x = x.to(device)\n",
    "\n",
    "        emb = autoencoder.encoder(x).cpu()\n",
    "        for e in emb:\n",
    "            embs.append(e)\n",
    "\n",
    "print(len(embs))"
   ]
  },
  {
   "cell_type": "code",
   "execution_count": 39,
   "id": "efd9f847",
   "metadata": {},
   "outputs": [
    {
     "data": {
      "text/plain": [
       "<matplotlib.image.AxesImage at 0x7048c5ef03d0>"
      ]
     },
     "execution_count": 39,
     "metadata": {},
     "output_type": "execute_result"
    },
    {
     "data": {
      "image/png": "[encoded data removed]",
      "text/plain": [
       "<Figure size 640x480 with 1 Axes>"
      ]
     },
     "metadata": {},
     "output_type": "display_data"
    }
   ],
   "source": [
    "out = torch.sigmoid(autoencoder.decoder(embs[0].to(device)))\n",
    "out.shape\n",
    "plt.imshow(out[0][0].cpu().detach().numpy(), cmap='gray')"
   ]
  },
  {
   "cell_type": "code",
   "execution_count": 40,
   "id": "fbb34c25",
   "metadata": {},
   "outputs": [],
   "source": [
    "BATCH_SIZE=30\n",
    "emb_dataset = torch.utils.data.DataLoader(embs, batch_size=BATCH_SIZE, shuffle = True)"
   ]
  },
  {
   "cell_type": "code",
   "execution_count": 41,
   "id": "7adf1884",
   "metadata": {},
   "outputs": [],
   "source": [
    "## Energy Models\n",
    "\n",
    "class MLP(nn.Module):\n",
    "    def __init__(self, input_dim=20, hidden_dims=[256, 128], output_dim=20): # the output dimension has to be 1d\n",
    "        super(MLP, self).__init__()\n",
    "        self.fc1 = nn.Linear(input_dim, hidden_dims[0])\n",
    "        self.fc2 = nn.Linear(hidden_dims[0], hidden_dims[1])\n",
    "        self.fc3 = nn.Linear(hidden_dims[1], output_dim)\n",
    "\n",
    "    def forward(self, x):\n",
    "        x = F.silu(self.fc1(x))\n",
    "        x = F.silu(self.fc2(x))\n",
    "        x = self.fc3(x)  # logits for classification\n",
    "        return x"
   ]
  },
  {
   "cell_type": "code",
   "execution_count": 42,
   "id": "b1bb7aba",
   "metadata": {},
   "outputs": [
    {
     "data": {
      "text/plain": [
       "torch.Size([1, 20])"
      ]
     },
     "execution_count": 42,
     "metadata": {},
     "output_type": "execute_result"
    }
   ],
   "source": [
    "x = torch.randn(1, 20)\n",
    "model = MLP()\n",
    "model(x).shape"
   ]
  },
  {
   "cell_type": "code",
   "execution_count": 49,
   "id": "c3e25fe8",
   "metadata": {},
   "outputs": [],
   "source": [
    "from functorch import jacrev, vmap\n",
    "\n",
    "def calc_loss(score_network: torch.nn.Module, x: torch.Tensor) -> torch.Tensor:\n",
    "    # x: (batch_size, 2) is the training data\n",
    "    score = score_network(x)  # score: (b, 1, w, h)\n",
    "    # score = score.reshape(score.size(0), -1)\n",
    "    \n",
    "    # first term: half of the squared norm\n",
    "    term1 = torch.linalg.norm(score, dim=-1) ** 2 * 0.5\n",
    "    \n",
    "    # second term: trace of the Jacobian\n",
    "    jac = vmap(jacrev(score_network))(x)  # (batch_size, 2, 2)\n",
    "    term2 = torch.einsum(\"bii->b\", jac)  # compute the trace\n",
    "    return (term1 + term2).mean()"
   ]
  },
  {
   "cell_type": "code",
   "execution_count": 50,
   "id": "3c868d65",
   "metadata": {},
   "outputs": [],
   "source": [
    "score_network = MLP()\n",
    "opt = torch.optim.Adam(score_network.parameters(), lr=3e-4)\n",
    "resume=\"\"\n",
    "\n",
    "if resume != \"\":\n",
    "    print(f\"loading model from {resume}\")\n",
    "    ckpt = torch.load(resume, map_location='cpu')\n",
    "    score_network.load_state_dict(ckpt['model_state_dict'])\n",
    "    opt.load_state_dict(ckpt['optim_state_dict'])\n",
    "score_network.to(device);"
   ]
  },
  {
   "cell_type": "code",
   "execution_count": 51,
   "id": "f2ec9184",
   "metadata": {},
   "outputs": [
    {
     "name": "stdout",
     "output_type": "stream",
     "text": [
      "[Epoch 0] | [0|2000] loss: 2.6170341968536377, avg loss: 2.6170341968536377 est epoch: 0:00:08.855881\n",
      "[Epoch 0] | [100|2000] loss: -0.8797305226325989, avg loss: -0.26410853943907386 est epoch: 0:00:23.007393\n",
      "[Epoch 0] | [200|2000] loss: -1.270411729812622, avg loss: -0.7336140617135152 est epoch: 0:00:22.247891\n",
      "[Epoch 0] | [300|2000] loss: -2.2623534202575684, avg loss: -1.0429631476336936 est epoch: 0:00:20.130666\n",
      "[Epoch 0] | [400|2000] loss: -1.5142074823379517, avg loss: -1.2738914100866663 est epoch: 0:00:18.965148\n",
      "[Epoch 0] | [500|2000] loss: -2.1062328815460205, avg loss: -1.4700565957231913 est epoch: 0:00:17.349310\n",
      "[Epoch 0] | [600|2000] loss: -2.750885486602783, avg loss: -1.6356012833470512 est epoch: 0:00:16.301075\n",
      "[Epoch 0] | [700|2000] loss: -2.1612679958343506, avg loss: -1.7838609096475913 est epoch: 0:00:14.554088\n",
      "[Epoch 0] | [800|2000] loss: -3.2518985271453857, avg loss: -1.9257254971379645 est epoch: 0:00:13.027706\n",
      "[Epoch 0] | [900|2000] loss: -2.6844658851623535, avg loss: -2.055734998402863 est epoch: 0:00:11.766838\n",
      "[Epoch 0] | [1000|2000] loss: -2.182583808898926, avg loss: -2.17222015343078 est epoch: 0:00:11.102192\n",
      "[Epoch 0] | [1100|2000] loss: -4.560153007507324, avg loss: -2.2980454120916955 est epoch: 0:00:10.000474\n",
      "[Epoch 0] | [1200|2000] loss: -3.573162317276001, avg loss: -2.412372321231627 est epoch: 0:00:09.193160\n",
      "[Epoch 0] | [1300|2000] loss: -2.515557050704956, avg loss: -2.5200140004509417 est epoch: 0:00:07.762764\n",
      "[Epoch 0] | [1400|2000] loss: -4.655512809753418, avg loss: -2.6159008549237828 est epoch: 0:00:06.538688\n",
      "[Epoch 0] | [1500|2000] loss: -5.139611721038818, avg loss: -2.726355154238527 est epoch: 0:00:05.666622\n",
      "[Epoch 0] | [1600|2000] loss: -4.813060760498047, avg loss: -2.8334935455444006 est epoch: 0:00:04.505233\n",
      "[Epoch 0] | [1700|2000] loss: -2.8714759349823, avg loss: -2.9334333205901126 est epoch: 0:00:03.235062\n",
      "[Epoch 0] | [1800|2000] loss: -4.276249408721924, avg loss: -3.024917708655022 est epoch: 0:00:02.128768\n",
      "[Epoch 0] | [1900|2000] loss: -5.351955413818359, avg loss: -3.1099062713547982 est epoch: 0:00:01.109414\n",
      "[Epoch 1] | [0|2000] loss: -4.658849716186523, avg loss: -4.658849716186523 est epoch: 0:00:22.035271\n",
      "[Epoch 1] | [100|2000] loss: -3.8985869884490967, avg loss: -4.913387305665724 est epoch: 0:00:20.449417\n",
      "[Epoch 1] | [200|2000] loss: -6.649933338165283, avg loss: -5.066078633218262 est epoch: 0:00:19.573906\n",
      "[Epoch 1] | [300|2000] loss: -5.417859077453613, avg loss: -5.1297105368585685 est epoch: 0:00:19.144621\n",
      "[Epoch 1] | [400|2000] loss: -3.569176435470581, avg loss: -5.165181177512666 est epoch: 0:00:17.498063\n",
      "[Epoch 1] | [500|2000] loss: -4.405466079711914, avg loss: -5.264016678947175 est epoch: 0:00:17.458603\n",
      "[Epoch 1] | [600|2000] loss: -4.845700263977051, avg loss: -5.338651545432562 est epoch: 0:00:15.972027\n",
      "[Epoch 1] | [700|2000] loss: -4.230042934417725, avg loss: -5.405069528224635 est epoch: 0:00:15.099000\n",
      "[Epoch 1] | [800|2000] loss: -5.076982021331787, avg loss: -5.485114401348223 est epoch: 0:00:12.443560\n",
      "[Epoch 1] | [900|2000] loss: -9.913078308105469, avg loss: -5.518780199192737 est epoch: 0:00:12.047848\n",
      "[Epoch 1] | [1000|2000] loss: -3.833482027053833, avg loss: -5.532920828113308 est epoch: 0:00:10.779953\n",
      "[Epoch 1] | [1100|2000] loss: -8.899137496948242, avg loss: -5.596788496455748 est epoch: 0:00:09.976790\n",
      "[Epoch 1] | [1200|2000] loss: -2.3836276531219482, avg loss: -5.660891627788941 est epoch: 0:00:09.121770\n",
      "[Epoch 1] | [1300|2000] loss: -5.377743721008301, avg loss: -5.735104322250214 est epoch: 0:00:08.226855\n",
      "[Epoch 1] | [1400|2000] loss: -9.409076690673828, avg loss: -5.794717190692801 est epoch: 0:00:06.423958\n",
      "[Epoch 1] | [1500|2000] loss: -5.709314346313477, avg loss: -5.848128760043658 est epoch: 0:00:05.588659\n",
      "[Epoch 1] | [1600|2000] loss: -9.078207015991211, avg loss: -5.884257767216851 est epoch: 0:00:04.342887\n",
      "[Epoch 1] | [1700|2000] loss: -6.263481140136719, avg loss: -5.966021814814461 est epoch: 0:00:03.231417\n",
      "[Epoch 1] | [1800|2000] loss: -8.270519256591797, avg loss: -6.0252821574536775 est epoch: 0:00:02.214342\n",
      "[Epoch 1] | [1900|2000] loss: -6.171462535858154, avg loss: -6.065236864624244 est epoch: 0:00:01.079313\n",
      "[Epoch 2] | [0|2000] loss: -6.678316116333008, avg loss: -6.678316116333008 est epoch: 0:00:22.262418\n",
      "[Epoch 2] | [100|2000] loss: -10.784927368164062, avg loss: -7.704478242609761 est epoch: 0:00:21.312158\n",
      "[Epoch 2] | [200|2000] loss: -8.832833290100098, avg loss: -7.318910185970477 est epoch: 0:00:19.970579\n",
      "[Epoch 2] | [300|2000] loss: -11.94473934173584, avg loss: -7.3562585198602015 est epoch: 0:00:19.035944\n",
      "[Epoch 2] | [400|2000] loss: -5.0253520011901855, avg loss: -7.472543302022311 est epoch: 0:00:18.631464\n",
      "[Epoch 2] | [500|2000] loss: -8.165660858154297, avg loss: -7.517875351591738 est epoch: 0:00:16.242017\n",
      "[Epoch 2] | [600|2000] loss: -6.641075134277344, avg loss: -7.531637392504243 est epoch: 0:00:15.878790\n",
      "[Epoch 2] | [700|2000] loss: -7.22377872467041, avg loss: -7.5669111600105845 est epoch: 0:00:14.254556\n",
      "[Epoch 2] | [800|2000] loss: -9.667491912841797, avg loss: -7.56369964043597 est epoch: 0:00:13.595872\n",
      "[Epoch 2] | [900|2000] loss: -6.626601696014404, avg loss: -7.5750768167461855 est epoch: 0:00:12.434949\n",
      "[Epoch 2] | [1000|2000] loss: -4.128970146179199, avg loss: -7.59766386665188 est epoch: 0:00:10.718846\n",
      "[Epoch 2] | [1100|2000] loss: -6.83823299407959, avg loss: -7.642128295079889 est epoch: 0:00:10.315558\n",
      "[Epoch 2] | [1200|2000] loss: -12.323690414428711, avg loss: -7.714447734258654 est epoch: 0:00:08.689413\n",
      "[Epoch 2] | [1300|2000] loss: -8.02514934539795, avg loss: -7.704550087131233 est epoch: 0:00:07.454543\n",
      "[Epoch 2] | [1400|2000] loss: -7.070816516876221, avg loss: -7.7321252815218 est epoch: 0:00:06.590680\n",
      "[Epoch 2] | [1500|2000] loss: -7.777888298034668, avg loss: -7.789267239850176 est epoch: 0:00:05.508889\n",
      "[Epoch 2] | [1600|2000] loss: -6.456855773925781, avg loss: -7.830927718586657 est epoch: 0:00:04.426296\n",
      "[Epoch 2] | [1700|2000] loss: -12.089740753173828, avg loss: -7.862160494298111 est epoch: 0:00:03.265913\n",
      "[Epoch 2] | [1800|2000] loss: -4.499581336975098, avg loss: -7.884154681014988 est epoch: 0:00:02.241519\n",
      "[Epoch 2] | [1900|2000] loss: -6.96743106842041, avg loss: -7.923621814778326 est epoch: 0:00:01.103509\n",
      "[Epoch 3] | [0|2000] loss: -12.398600578308105, avg loss: -12.398600578308105 est epoch: 0:00:22.721254\n",
      "[Epoch 3] | [100|2000] loss: -9.066064834594727, avg loss: -8.648303949596858 est epoch: 0:00:20.469419\n",
      "[Epoch 3] | [200|2000] loss: -14.21296215057373, avg loss: -8.844802559608251 est epoch: 0:00:20.083105\n",
      "[Epoch 3] | [300|2000] loss: -7.989897727966309, avg loss: -8.802385900305751 est epoch: 0:00:18.342758\n",
      "[Epoch 3] | [400|2000] loss: -5.530661106109619, avg loss: -8.766965296946262 est epoch: 0:00:18.558717\n",
      "[Epoch 3] | [500|2000] loss: -9.9041166305542, avg loss: -8.829604829023936 est epoch: 0:00:17.038138\n",
      "[Epoch 3] | [600|2000] loss: -5.560658931732178, avg loss: -8.829319579926585 est epoch: 0:00:15.240210\n",
      "[Epoch 3] | [700|2000] loss: -15.420215606689453, avg loss: -8.907776088840441 est epoch: 0:00:14.552388\n",
      "[Epoch 3] | [800|2000] loss: -10.912409782409668, avg loss: -8.947844669092609 est epoch: 0:00:12.764677\n",
      "[Epoch 3] | [900|2000] loss: -7.908381462097168, avg loss: -8.990259257921501 est epoch: 0:00:11.862533\n",
      "[Epoch 3] | [1000|2000] loss: -8.24325942993164, avg loss: -8.988423856524202 est epoch: 0:00:10.514768\n",
      "[Epoch 3] | [1100|2000] loss: -8.609323501586914, avg loss: -9.087951783155118 est epoch: 0:00:09.472641\n",
      "[Epoch 3] | [1200|2000] loss: -6.021833419799805, avg loss: -9.134956004518354 est epoch: 0:00:08.837122\n",
      "[Epoch 3] | [1300|2000] loss: -8.358108520507812, avg loss: -9.154561136430452 est epoch: 0:00:07.333528\n",
      "[Epoch 3] | [1400|2000] loss: -13.957245826721191, avg loss: -9.24957471179758 est epoch: 0:00:06.429225\n",
      "[Epoch 3] | [1500|2000] loss: -12.80678939819336, avg loss: -9.279052163028146 est epoch: 0:00:05.241178\n",
      "[Epoch 3] | [1600|2000] loss: -6.727245807647705, avg loss: -9.332640893008097 est epoch: 0:00:04.446030\n",
      "[Epoch 3] | [1700|2000] loss: -9.403825759887695, avg loss: -9.411260545989613 est epoch: 0:00:03.244483\n",
      "[Epoch 3] | [1800|2000] loss: -8.58878231048584, avg loss: -9.444541831866427 est epoch: 0:00:02.228610\n",
      "[Epoch 3] | [1900|2000] loss: -8.97223949432373, avg loss: -9.456886671393374 est epoch: 0:00:01.117758\n",
      "[Epoch 4] | [0|2000] loss: -13.54430103302002, avg loss: -13.54430103302002 est epoch: 0:00:22.839641\n",
      "[Epoch 4] | [100|2000] loss: -9.584128379821777, avg loss: -10.189668382748518 est epoch: 0:00:21.536957\n",
      "[Epoch 4] | [200|2000] loss: -7.414150238037109, avg loss: -10.271234102510101 est epoch: 0:00:19.393324\n",
      "[Epoch 4] | [300|2000] loss: -8.895627975463867, avg loss: -10.333061580642116 est epoch: 0:00:18.536569\n",
      "[Epoch 4] | [400|2000] loss: -19.567935943603516, avg loss: -10.415039298243059 est epoch: 0:00:17.721408\n",
      "[Epoch 4] | [500|2000] loss: -9.658835411071777, avg loss: -10.333065141698796 est epoch: 0:00:16.161197\n",
      "[Epoch 4] | [600|2000] loss: -7.689541816711426, avg loss: -10.343151036792507 est epoch: 0:00:15.650780\n",
      "[Epoch 4] | [700|2000] loss: -7.138739585876465, avg loss: -10.431765004163461 est epoch: 0:00:14.129222\n",
      "[Epoch 4] | [800|2000] loss: -9.463998794555664, avg loss: -10.499753583683058 est epoch: 0:00:13.080897\n",
      "[Epoch 4] | [900|2000] loss: -8.819358825683594, avg loss: -10.521782773845601 est epoch: 0:00:11.790021\n",
      "[Epoch 4] | [1000|2000] loss: -12.16546630859375, avg loss: -10.561701394818522 est epoch: 0:00:10.402421\n",
      "[Epoch 4] | [1100|2000] loss: -12.598160743713379, avg loss: -10.582068669481997 est epoch: 0:00:09.907904\n",
      "[Epoch 4] | [1200|2000] loss: -10.192015647888184, avg loss: -10.603101686846705 est epoch: 0:00:08.528177\n",
      "[Epoch 4] | [1300|2000] loss: -14.051024436950684, avg loss: -10.609072968718824 est epoch: 0:00:07.663478\n",
      "[Epoch 4] | [1400|2000] loss: -9.768712043762207, avg loss: -10.619801164332838 est epoch: 0:00:06.618475\n",
      "[Epoch 4] | [1500|2000] loss: -6.390183448791504, avg loss: -10.646596368732332 est epoch: 0:00:05.640790\n",
      "[Epoch 4] | [1600|2000] loss: -8.517187118530273, avg loss: -10.649923949205153 est epoch: 0:00:04.587642\n",
      "[Epoch 4] | [1700|2000] loss: -17.543670654296875, avg loss: -10.677500951910355 est epoch: 0:00:03.443831\n",
      "[Epoch 4] | [1800|2000] loss: -13.490606307983398, avg loss: -10.695659619364587 est epoch: 0:00:02.177070\n",
      "[Epoch 4] | [1900|2000] loss: -12.154073715209961, avg loss: -10.717445185706842 est epoch: 0:00:01.082644\n",
      "[Epoch 5] | [0|2000] loss: -8.064987182617188, avg loss: -8.064987182617188 est epoch: 0:00:23.240108\n",
      "[Epoch 5] | [100|2000] loss: -3.1822285652160645, avg loss: -11.08097227847222 est epoch: 0:00:21.439546\n",
      "[Epoch 5] | [200|2000] loss: -13.899341583251953, avg loss: -11.42277673168562 est epoch: 0:00:20.581891\n",
      "[Epoch 5] | [300|2000] loss: -8.65866756439209, avg loss: -11.576135389432558 est epoch: 0:00:18.858813\n",
      "[Epoch 5] | [400|2000] loss: -11.160457611083984, avg loss: -11.491487253336539 est epoch: 0:00:17.838476\n",
      "[Epoch 5] | [500|2000] loss: -9.41529369354248, avg loss: -11.497763141662537 est epoch: 0:00:17.859912\n",
      "[Epoch 5] | [600|2000] loss: -11.045970916748047, avg loss: -11.50832512573077 est epoch: 0:00:15.542117\n",
      "[Epoch 5] | [700|2000] loss: -6.444566249847412, avg loss: -11.515426438477173 est epoch: 0:00:13.496527\n",
      "[Epoch 5] | [800|2000] loss: -8.03180980682373, avg loss: -11.582499691609586 est epoch: 0:00:12.750772\n",
      "[Epoch 5] | [900|2000] loss: 0.32102587819099426, avg loss: -11.599110962911928 est epoch: 0:00:12.183707\n"
     ]
    },
    {
     "ename": "KeyboardInterrupt",
     "evalue": "",
     "output_type": "error",
     "traceback": [
      "\u001b[0;31m---------------------------------------------------------------------------\u001b[0m",
      "\u001b[0;31mKeyboardInterrupt\u001b[0m                         Traceback (most recent call last)",
      "Cell \u001b[0;32mIn[51], line 23\u001b[0m\n\u001b[1;32m     20\u001b[0m opt\u001b[38;5;241m.\u001b[39mstep()\n\u001b[1;32m     22\u001b[0m \u001b[38;5;66;03m# running stats\u001b[39;00m\n\u001b[0;32m---> 23\u001b[0m total_loss \u001b[38;5;241m=\u001b[39m total_loss \u001b[38;5;241m+\u001b[39m \u001b[43mloss\u001b[49m\u001b[38;5;241;43m.\u001b[39;49m\u001b[43mdetach\u001b[49m\u001b[43m(\u001b[49m\u001b[43m)\u001b[49m\u001b[38;5;241;43m.\u001b[39;49m\u001b[43mitem\u001b[49m\u001b[43m(\u001b[49m\u001b[43m)\u001b[49m\n\u001b[1;32m     25\u001b[0m \u001b[38;5;28;01mif\u001b[39;00m i \u001b[38;5;241m%\u001b[39m LOG_INTERVAL \u001b[38;5;241m==\u001b[39m \u001b[38;5;241m0\u001b[39m:\n\u001b[1;32m     26\u001b[0m     \u001b[38;5;28mprint\u001b[39m(\u001b[38;5;124mf\u001b[39m\u001b[38;5;124m\"\u001b[39m\u001b[38;5;124m[Epoch \u001b[39m\u001b[38;5;132;01m{\u001b[39;00mi_epoch\u001b[38;5;132;01m}\u001b[39;00m\u001b[38;5;124m] | [\u001b[39m\u001b[38;5;132;01m{\u001b[39;00mi\u001b[38;5;132;01m}\u001b[39;00m\u001b[38;5;124m|\u001b[39m\u001b[38;5;132;01m{\u001b[39;00m\u001b[38;5;28mlen\u001b[39m(train_loader)\u001b[38;5;132;01m}\u001b[39;00m\u001b[38;5;124m] loss: \u001b[39m\u001b[38;5;132;01m{\u001b[39;00mloss\u001b[38;5;241m.\u001b[39mitem()\u001b[38;5;132;01m}\u001b[39;00m\u001b[38;5;124m, avg loss: \u001b[39m\u001b[38;5;132;01m{\u001b[39;00mtotal_loss\u001b[38;5;241m/\u001b[39m(i\u001b[38;5;241m+\u001b[39m\u001b[38;5;241m1\u001b[39m)\u001b[38;5;132;01m}\u001b[39;00m\u001b[38;5;124m est epoch: \u001b[39m\u001b[38;5;132;01m{\u001b[39;00mdatetime\u001b[38;5;241m.\u001b[39mtimedelta(seconds\u001b[38;5;241m=\u001b[39m(\u001b[38;5;28mlen\u001b[39m(train_loader)\u001b[38;5;250m \u001b[39m\u001b[38;5;241m-\u001b[39m\u001b[38;5;241m1\u001b[39m\u001b[38;5;250m \u001b[39m\u001b[38;5;241m-\u001b[39m\u001b[38;5;250m \u001b[39mi)\u001b[38;5;250m \u001b[39m\u001b[38;5;241m/\u001b[39m\u001b[38;5;250m \u001b[39mLOG_INTERVAL\u001b[38;5;250m \u001b[39m\u001b[38;5;241m*\u001b[39m\u001b[38;5;250m \u001b[39m(time\u001b[38;5;241m.\u001b[39mtime()\u001b[38;5;250m \u001b[39m\u001b[38;5;241m-\u001b[39m\u001b[38;5;250m \u001b[39mstart))\u001b[38;5;132;01m}\u001b[39;00m\u001b[38;5;124m\"\u001b[39m)\n",
      "\u001b[0;31mKeyboardInterrupt\u001b[0m: "
     ]
    }
   ],
   "source": [
    "\"\"\"Training\"\"\"\n",
    "import time\n",
    "import datetime\n",
    "EPOCH=10\n",
    "LOG_INTERVAL=100\n",
    "\n",
    "BATCH_SIZE=100\n",
    "emb_dataset = torch.utils.data.DataLoader(embs, batch_size=BATCH_SIZE, shuffle = True)\n",
    "\n",
    "train_loader = emb_dataset\n",
    "\n",
    "start = time.time()\n",
    "for i_epoch in range(EPOCH):\n",
    "    total_loss = 0\n",
    "    for i, data in enumerate(train_loader):\n",
    "        opt.zero_grad()\n",
    "        data= data.to(device)\n",
    "\n",
    "        # training step\n",
    "        score_network.zero_grad()\n",
    "        loss = calc_loss(score_network, data)\n",
    "        loss.backward()\n",
    "        opt.step()\n",
    "\n",
    "        # running stats\n",
    "        total_loss = total_loss + loss.detach().item()\n",
    "        \n",
    "        if i % LOG_INTERVAL == 0:\n",
    "            print(f\"[Epoch {i_epoch}] | [{i}|{len(train_loader)}] loss: {loss.item()}, avg loss: {total_loss/(i+1)} est epoch: {datetime.timedelta(seconds=(len(train_loader) -1 - i) / LOG_INTERVAL * (time.time() - start))}\")\n",
    "            start = time.time()\n",
    "    # torch.save({\"model_state_dict\": score_network.state_dict(), \"optim_state_dict\": opt.state_dict()}, f\"epoch_{i_epoch}.pth\")"
   ]
  },
  {
   "cell_type": "code",
   "execution_count": 53,
   "id": "7fff9528",
   "metadata": {},
   "outputs": [],
   "source": [
    "score_network\n",
    "torch.save(score_network.state_dict(), \"score_model.pth\")"
   ]
  },
  {
   "cell_type": "code",
   "execution_count": 98,
   "id": "36d91d78",
   "metadata": {},
   "outputs": [],
   "source": [
    "import numpy as np \n",
    "import tqdm\n",
    "\n",
    "@torch.no_grad()\n",
    "def mala_sample(x, model, n_steps, n_sample_out, step = 0.2, verbose = False):\n",
    "\n",
    "    def log_q_y_x(model, step, y, x):\n",
    "        grad = model(x)\n",
    "        norm = -torch.norm((y - x.detach() - step / 2 * grad), 2)**2 / (4 * step)\n",
    "        return norm\n",
    "\n",
    "    def log_accept_prob(model, z_new, z, step):\n",
    "        left = 1\n",
    "        right = log_q_y_x(model, step, z, z_new) - log_q_y_x(model,step, z_new, z)\n",
    "        prob = left + right\n",
    "        # print(left.shape)\n",
    "        return min(0, prob)\n",
    "    \n",
    "    res = []\n",
    "    \n",
    "    z  = torch.clone(x)\n",
    "   \n",
    "    pbar = range(n_steps)\n",
    "    if verbose:\n",
    "        pbar = tqdm.tqdm(pbar)\n",
    "\n",
    "    for _ in pbar:\n",
    "        grad = model(z)\n",
    "        z_new = z.detach() + step / 2 * grad + torch.randn(z.size(0), device=z.device) * np.sqrt(step)\n",
    "        # a_log_prob = log_accept_prob(model, z_new, z, step)\n",
    "        # if torch.log(torch.rand(1)).item() < a_log_prob:\n",
    "        z = z_new\n",
    "        res.append(z.detach())\n",
    "        # if verbose:\n",
    "        #     pbar.set_description(f\"z value {z}, a log prob: {a_log_prob}\")\n",
    "    return torch.stack(res, axis = 0)[-n_sample_out:]"
   ]
  },
  {
   "cell_type": "code",
   "execution_count": 164,
   "id": "8262cd4c",
   "metadata": {},
   "outputs": [
    {
     "name": "stderr",
     "output_type": "stream",
     "text": [
      "100%|██████████| 1000/1000 [00:00<00:00, 2595.47it/s]"
     ]
    },
    {
     "name": "stdout",
     "output_type": "stream",
     "text": [
      "torch.Size([1, 1, 20])\n"
     ]
    },
    {
     "name": "stderr",
     "output_type": "stream",
     "text": [
      "\n"
     ]
    }
   ],
   "source": [
    "out = mala_sample(torch.randn(1,20).to(device), score_network, 1000, 1, step=0.1, verbose=True)\n",
    "print(out.shape)"
   ]
  },
  {
   "cell_type": "code",
   "execution_count": 165,
   "id": "b1c5f38b",
   "metadata": {},
   "outputs": [],
   "source": [
    "out = autoencoder.decoder(out.squeeze(0))\n",
    "out = torch.sigmoid(out)"
   ]
  },
  {
   "cell_type": "code",
   "execution_count": 166,
   "id": "7df2f1cd",
   "metadata": {},
   "outputs": [
    {
     "name": "stdout",
     "output_type": "stream",
     "text": [
      "torch.Size([1, 1, 28, 28])\n"
     ]
    },
    {
     "data": {
      "text/plain": [
       "<matplotlib.image.AxesImage at 0x70473dfafaf0>"
      ]
     },
     "execution_count": 166,
     "metadata": {},
     "output_type": "execute_result"
    },
    {
     "data": {
      "image/png": "[encoded data removed]",
      "text/plain": [
       "<Figure size 640x480 with 1 Axes>"
      ]
     },
     "metadata": {},
     "output_type": "display_data"
    }
   ],
   "source": [
    "print(out.shape)\n",
    "plt.imshow(out.squeeze().detach().cpu().numpy(), cmap='gray')"
   ]
  },
  {
   "cell_type": "code",
   "execution_count": 67,
   "id": "2b9c2142",
   "metadata": {},
   "outputs": [],
   "source": [
    "def generate_samples(score_net: torch.nn.Module, nsamples: int, eps: float = 0.001, nsteps: int = 1000) -> torch.Tensor:\n",
    "    # generate samples using Langevin MCMC\n",
    "    # x0: (sample_size, nch)\n",
    "    x0 = torch.rand((nsamples, 20)).to(device) * 2 - 1\n",
    "    for i in range(nsteps):\n",
    "        z = torch.randn_like(x0)\n",
    "        x0 = x0 + eps * score_net(x0) + (2 * eps) ** 0.5 * z\n",
    "    return x0"
   ]
  },
  {
   "cell_type": "code",
   "execution_count": 85,
   "id": "90805ad5",
   "metadata": {},
   "outputs": [],
   "source": [
    "out = generate_samples(score_network, nsamples=10, nsteps=50000)"
   ]
  },
  {
   "cell_type": "code",
   "execution_count": 86,
   "id": "0808482c",
   "metadata": {},
   "outputs": [
    {
     "name": "stdout",
     "output_type": "stream",
     "text": [
      "torch.Size([10, 1, 28, 28])\n"
     ]
    }
   ],
   "source": [
    "out = autoencoder.decoder(out.squeeze(0))\n",
    "out = torch.sigmoid(out)\n",
    "print(out.shape)"
   ]
  },
  {
   "cell_type": "code",
   "execution_count": 92,
   "id": "f5ddf32a",
   "metadata": {},
   "outputs": [
    {
     "data": {
      "text/plain": [
       "<matplotlib.image.AxesImage at 0x7047745bb2b0>"
      ]
     },
     "execution_count": 92,
     "metadata": {},
     "output_type": "execute_result"
    },
    {
     "data": {
      "image/png": "[encoded data removed]",
      "text/plain": [
       "<Figure size 640x480 with 1 Axes>"
      ]
     },
     "metadata": {},
     "output_type": "display_data"
    }
   ],
   "source": [
    "plt.imshow(out.squeeze()[5].detach().cpu().numpy(), cmap='gray')"
   ]
  }
 ],
 "metadata": {
  "kernelspec": {
   "display_name": "bltang_new",
   "language": "python",
   "name": "python3"
  },
  "language_info": {
   "codemirror_mode": {
    "name": "ipython",
    "version": 3
   },
   "file_extension": ".py",
   "mimetype": "text/x-python",
   "name": "python",
   "nbconvert_exporter": "python",
   "pygments_lexer": "ipython3",
   "version": "3.9.13"
  }
 },
 "nbformat": 4,
 "nbformat_minor": 5
}
