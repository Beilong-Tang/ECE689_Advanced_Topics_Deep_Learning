{
 "cells": [
  {
   "cell_type": "code",
   "execution_count": 1,
   "id": "85d48173",
   "metadata": {},
   "outputs": [],
   "source": [
    "import torch\n",
    "from torch import nn\n",
    "import torch.nn.functional as F\n",
    "import numpy as np\n",
    "from torchvision import datasets, transforms\n",
    "import itertools\n",
    "import matplotlib.pyplot as plt\n",
    "from functools import partial\n",
    "import seaborn as sns"
   ]
  },
  {
   "cell_type": "code",
   "execution_count": 2,
   "id": "64972e42",
   "metadata": {},
   "outputs": [
    {
     "name": "stdout",
     "output_type": "stream",
     "text": [
      "device: cuda:4\n"
     ]
    }
   ],
   "source": [
    "# Set the random seeds\n",
    "torch.manual_seed(0)\n",
    "np.random.seed(0)\n",
    "\n",
    "torch.backends.cudnn.deterministic = True\n",
    "torch.backends.cudnn.benchmark = False\n",
    "device = torch.device('cuda:4' if torch.cuda.is_available() else 'cpu')\n",
    "print(\"device:\", device)"
   ]
  },
  {
   "cell_type": "code",
   "execution_count": 3,
   "id": "a98e160d",
   "metadata": {},
   "outputs": [],
   "source": [
    "EMBEDDING_DIM = 20 # The dimension of the embeddings\n",
    "\n",
    "class AutoEncoder(nn.Module):\n",
    "    \"\"\"\n",
    "    A simple autoencoder for images. \n",
    "    self.linear1 generates the intermediate embeddings that we use for the normalizing flow.\n",
    "    \"\"\"\n",
    "    def __init__(self):\n",
    "        super().__init__()\n",
    "        \n",
    "        # Encoding layers\n",
    "        self.conv1 = nn.Conv2d(in_channels=1, out_channels=32, stride=2, kernel_size=3, bias=False, padding=1)\n",
    "        self.conv2 = nn.Conv2d(in_channels=32, out_channels=64, stride=2, kernel_size=3, bias=False, padding=1)\n",
    "        self.linear1 = nn.Linear(in_features=3136, out_features=EMBEDDING_DIM)\n",
    "        \n",
    "        # Decoding layers\n",
    "        self.linear2 = nn.Linear(in_features=EMBEDDING_DIM, out_features=3136)\n",
    "        self.convt1 = nn.ConvTranspose2d(in_channels=64, out_channels=32, stride=2, kernel_size=3, padding=1, output_padding=1)\n",
    "        self.convt2 = nn.ConvTranspose2d(in_channels=32, out_channels=1, stride=2, kernel_size=3, padding=1, output_padding=1)\n",
    "\n",
    "\n",
    "    def forward(self, x):\n",
    "        \n",
    "        emb = self.encoder(x)\n",
    "        _x = self.decoder(emb)\n",
    "        \n",
    "        return _x, emb\n",
    "    \n",
    "    def decoder(self, emb):\n",
    "\n",
    "        _x = torch.relu(self.linear2(emb))\n",
    "        _x = _x.view(-1, 64, 7, 7)\n",
    "        _x = torch.relu(self.convt1(_x))\n",
    "        _x = self.convt2(_x)\n",
    "        \n",
    "        return _x\n",
    "    \n",
    "    def encoder(self, x):\n",
    "        _x = torch.relu(self.conv1(x))\n",
    "        _x = torch.relu(self.conv2(_x))\n",
    "        sh = _x.shape\n",
    "\n",
    "        _x = torch.relu(torch.flatten(_x, 1))\n",
    "        \n",
    "        emb = self.linear1(_x)\n",
    "        \n",
    "        return emb"
   ]
  },
  {
   "cell_type": "code",
   "execution_count": 4,
   "id": "f54aba1d",
   "metadata": {},
   "outputs": [],
   "source": [
    "BATCH_SIZE = 100 # Batch size\n",
    "# Load the dataset\n",
    "train_set = datasets.MNIST('./data', train=True, download=True,\n",
    "                       transform=transforms.Compose([\n",
    "                           transforms.ToTensor()\n",
    "                       ]))\n",
    "train_loader = torch.utils.data.DataLoader(train_set, BATCH_SIZE)\n",
    "\n",
    "test_set = datasets.MNIST('./data', train=False, download=True,\n",
    "                       transform=transforms.Compose([\n",
    "                           transforms.ToTensor()\n",
    "                       ]))"
   ]
  },
  {
   "cell_type": "code",
   "execution_count": 5,
   "id": "2e8478b0",
   "metadata": {},
   "outputs": [
    {
     "name": "stdout",
     "output_type": "stream",
     "text": [
      "Epoch #1\n"
     ]
    },
    {
     "name": "stderr",
     "output_type": "stream",
     "text": [
      "/DKUdata/tangbl/anaconda/envs/bltang_new/lib/python3.9/site-packages/torch/nn/modules/conv.py:456: UserWarning: Applied workaround for CuDNN issue, install nvrtc.so (Triggered internally at ../aten/src/ATen/native/cudnn/Conv_v8.cpp:84.)\n",
      "  return F.conv2d(input, weight, bias, self.stride,\n"
     ]
    },
    {
     "name": "stdout",
     "output_type": "stream",
     "text": [
      "E 0, 0.000/600: Loss: 0.6272263526916504\n"
     ]
    },
    {
     "ename": "KeyboardInterrupt",
     "evalue": "",
     "output_type": "error",
     "traceback": [
      "\u001b[0;31m---------------------------------------------------------------------------\u001b[0m",
      "\u001b[0;31mKeyboardInterrupt\u001b[0m                         Traceback (most recent call last)",
      "Cell \u001b[0;32mIn[5], line 16\u001b[0m\n\u001b[1;32m     13\u001b[0m \u001b[38;5;28mprint\u001b[39m(\u001b[38;5;124m'\u001b[39m\u001b[38;5;124mEpoch #\u001b[39m\u001b[38;5;132;01m{}\u001b[39;00m\u001b[38;5;124m'\u001b[39m\u001b[38;5;241m.\u001b[39mformat(i\u001b[38;5;241m+\u001b[39m\u001b[38;5;241m1\u001b[39m))\n\u001b[1;32m     15\u001b[0m losses \u001b[38;5;241m=\u001b[39m []\n\u001b[0;32m---> 16\u001b[0m \u001b[38;5;28;01mfor\u001b[39;00m batch_idx, data \u001b[38;5;129;01min\u001b[39;00m \u001b[38;5;28menumerate\u001b[39m(train_loader):\n\u001b[1;32m     18\u001b[0m     x, _ \u001b[38;5;241m=\u001b[39m data\n\u001b[1;32m     19\u001b[0m     x \u001b[38;5;241m=\u001b[39m x\u001b[38;5;241m.\u001b[39mto(device)\n",
      "File \u001b[0;32m/DKUdata/tangbl/anaconda/envs/bltang_new/lib/python3.9/site-packages/torch/utils/data/dataloader.py:631\u001b[0m, in \u001b[0;36m_BaseDataLoaderIter.__next__\u001b[0;34m(self)\u001b[0m\n\u001b[1;32m    628\u001b[0m \u001b[38;5;28;01mif\u001b[39;00m \u001b[38;5;28mself\u001b[39m\u001b[38;5;241m.\u001b[39m_sampler_iter \u001b[38;5;129;01mis\u001b[39;00m \u001b[38;5;28;01mNone\u001b[39;00m:\n\u001b[1;32m    629\u001b[0m     \u001b[38;5;66;03m# TODO(https://github.com/pytorch/pytorch/issues/76750)\u001b[39;00m\n\u001b[1;32m    630\u001b[0m     \u001b[38;5;28mself\u001b[39m\u001b[38;5;241m.\u001b[39m_reset()  \u001b[38;5;66;03m# type: ignore[call-arg]\u001b[39;00m\n\u001b[0;32m--> 631\u001b[0m data \u001b[38;5;241m=\u001b[39m \u001b[38;5;28;43mself\u001b[39;49m\u001b[38;5;241;43m.\u001b[39;49m\u001b[43m_next_data\u001b[49m\u001b[43m(\u001b[49m\u001b[43m)\u001b[49m\n\u001b[1;32m    632\u001b[0m \u001b[38;5;28mself\u001b[39m\u001b[38;5;241m.\u001b[39m_num_yielded \u001b[38;5;241m+\u001b[39m\u001b[38;5;241m=\u001b[39m \u001b[38;5;241m1\u001b[39m\n\u001b[1;32m    633\u001b[0m \u001b[38;5;28;01mif\u001b[39;00m \u001b[38;5;28mself\u001b[39m\u001b[38;5;241m.\u001b[39m_dataset_kind \u001b[38;5;241m==\u001b[39m _DatasetKind\u001b[38;5;241m.\u001b[39mIterable \u001b[38;5;129;01mand\u001b[39;00m \\\n\u001b[1;32m    634\u001b[0m         \u001b[38;5;28mself\u001b[39m\u001b[38;5;241m.\u001b[39m_IterableDataset_len_called \u001b[38;5;129;01mis\u001b[39;00m \u001b[38;5;129;01mnot\u001b[39;00m \u001b[38;5;28;01mNone\u001b[39;00m \u001b[38;5;129;01mand\u001b[39;00m \\\n\u001b[1;32m    635\u001b[0m         \u001b[38;5;28mself\u001b[39m\u001b[38;5;241m.\u001b[39m_num_yielded \u001b[38;5;241m>\u001b[39m \u001b[38;5;28mself\u001b[39m\u001b[38;5;241m.\u001b[39m_IterableDataset_len_called:\n",
      "File \u001b[0;32m/DKUdata/tangbl/anaconda/envs/bltang_new/lib/python3.9/site-packages/torch/utils/data/dataloader.py:675\u001b[0m, in \u001b[0;36m_SingleProcessDataLoaderIter._next_data\u001b[0;34m(self)\u001b[0m\n\u001b[1;32m    673\u001b[0m \u001b[38;5;28;01mdef\u001b[39;00m \u001b[38;5;21m_next_data\u001b[39m(\u001b[38;5;28mself\u001b[39m):\n\u001b[1;32m    674\u001b[0m     index \u001b[38;5;241m=\u001b[39m \u001b[38;5;28mself\u001b[39m\u001b[38;5;241m.\u001b[39m_next_index()  \u001b[38;5;66;03m# may raise StopIteration\u001b[39;00m\n\u001b[0;32m--> 675\u001b[0m     data \u001b[38;5;241m=\u001b[39m \u001b[38;5;28;43mself\u001b[39;49m\u001b[38;5;241;43m.\u001b[39;49m\u001b[43m_dataset_fetcher\u001b[49m\u001b[38;5;241;43m.\u001b[39;49m\u001b[43mfetch\u001b[49m\u001b[43m(\u001b[49m\u001b[43mindex\u001b[49m\u001b[43m)\u001b[49m  \u001b[38;5;66;03m# may raise StopIteration\u001b[39;00m\n\u001b[1;32m    676\u001b[0m     \u001b[38;5;28;01mif\u001b[39;00m \u001b[38;5;28mself\u001b[39m\u001b[38;5;241m.\u001b[39m_pin_memory:\n\u001b[1;32m    677\u001b[0m         data \u001b[38;5;241m=\u001b[39m _utils\u001b[38;5;241m.\u001b[39mpin_memory\u001b[38;5;241m.\u001b[39mpin_memory(data, \u001b[38;5;28mself\u001b[39m\u001b[38;5;241m.\u001b[39m_pin_memory_device)\n",
      "File \u001b[0;32m/DKUdata/tangbl/anaconda/envs/bltang_new/lib/python3.9/site-packages/torch/utils/data/_utils/fetch.py:51\u001b[0m, in \u001b[0;36m_MapDatasetFetcher.fetch\u001b[0;34m(self, possibly_batched_index)\u001b[0m\n\u001b[1;32m     49\u001b[0m         data \u001b[38;5;241m=\u001b[39m \u001b[38;5;28mself\u001b[39m\u001b[38;5;241m.\u001b[39mdataset\u001b[38;5;241m.\u001b[39m__getitems__(possibly_batched_index)\n\u001b[1;32m     50\u001b[0m     \u001b[38;5;28;01melse\u001b[39;00m:\n\u001b[0;32m---> 51\u001b[0m         data \u001b[38;5;241m=\u001b[39m [\u001b[38;5;28mself\u001b[39m\u001b[38;5;241m.\u001b[39mdataset[idx] \u001b[38;5;28;01mfor\u001b[39;00m idx \u001b[38;5;129;01min\u001b[39;00m possibly_batched_index]\n\u001b[1;32m     52\u001b[0m \u001b[38;5;28;01melse\u001b[39;00m:\n\u001b[1;32m     53\u001b[0m     data \u001b[38;5;241m=\u001b[39m \u001b[38;5;28mself\u001b[39m\u001b[38;5;241m.\u001b[39mdataset[possibly_batched_index]\n",
      "File \u001b[0;32m/DKUdata/tangbl/anaconda/envs/bltang_new/lib/python3.9/site-packages/torch/utils/data/_utils/fetch.py:51\u001b[0m, in \u001b[0;36m<listcomp>\u001b[0;34m(.0)\u001b[0m\n\u001b[1;32m     49\u001b[0m         data \u001b[38;5;241m=\u001b[39m \u001b[38;5;28mself\u001b[39m\u001b[38;5;241m.\u001b[39mdataset\u001b[38;5;241m.\u001b[39m__getitems__(possibly_batched_index)\n\u001b[1;32m     50\u001b[0m     \u001b[38;5;28;01melse\u001b[39;00m:\n\u001b[0;32m---> 51\u001b[0m         data \u001b[38;5;241m=\u001b[39m [\u001b[38;5;28;43mself\u001b[39;49m\u001b[38;5;241;43m.\u001b[39;49m\u001b[43mdataset\u001b[49m\u001b[43m[\u001b[49m\u001b[43midx\u001b[49m\u001b[43m]\u001b[49m \u001b[38;5;28;01mfor\u001b[39;00m idx \u001b[38;5;129;01min\u001b[39;00m possibly_batched_index]\n\u001b[1;32m     52\u001b[0m \u001b[38;5;28;01melse\u001b[39;00m:\n\u001b[1;32m     53\u001b[0m     data \u001b[38;5;241m=\u001b[39m \u001b[38;5;28mself\u001b[39m\u001b[38;5;241m.\u001b[39mdataset[possibly_batched_index]\n",
      "File \u001b[0;32m/DKUdata/tangbl/anaconda/envs/bltang_new/lib/python3.9/site-packages/torchvision/datasets/mnist.py:143\u001b[0m, in \u001b[0;36mMNIST.__getitem__\u001b[0;34m(self, index)\u001b[0m\n\u001b[1;32m    139\u001b[0m img, target \u001b[38;5;241m=\u001b[39m \u001b[38;5;28mself\u001b[39m\u001b[38;5;241m.\u001b[39mdata[index], \u001b[38;5;28mint\u001b[39m(\u001b[38;5;28mself\u001b[39m\u001b[38;5;241m.\u001b[39mtargets[index])\n\u001b[1;32m    141\u001b[0m \u001b[38;5;66;03m# doing this so that it is consistent with all other datasets\u001b[39;00m\n\u001b[1;32m    142\u001b[0m \u001b[38;5;66;03m# to return a PIL Image\u001b[39;00m\n\u001b[0;32m--> 143\u001b[0m img \u001b[38;5;241m=\u001b[39m \u001b[43mImage\u001b[49m\u001b[38;5;241;43m.\u001b[39;49m\u001b[43mfromarray\u001b[49m\u001b[43m(\u001b[49m\u001b[43mimg\u001b[49m\u001b[38;5;241;43m.\u001b[39;49m\u001b[43mnumpy\u001b[49m\u001b[43m(\u001b[49m\u001b[43m)\u001b[49m\u001b[43m,\u001b[49m\u001b[43m \u001b[49m\u001b[43mmode\u001b[49m\u001b[38;5;241;43m=\u001b[39;49m\u001b[38;5;124;43m\"\u001b[39;49m\u001b[38;5;124;43mL\u001b[39;49m\u001b[38;5;124;43m\"\u001b[39;49m\u001b[43m)\u001b[49m\n\u001b[1;32m    145\u001b[0m \u001b[38;5;28;01mif\u001b[39;00m \u001b[38;5;28mself\u001b[39m\u001b[38;5;241m.\u001b[39mtransform \u001b[38;5;129;01mis\u001b[39;00m \u001b[38;5;129;01mnot\u001b[39;00m \u001b[38;5;28;01mNone\u001b[39;00m:\n\u001b[1;32m    146\u001b[0m     img \u001b[38;5;241m=\u001b[39m \u001b[38;5;28mself\u001b[39m\u001b[38;5;241m.\u001b[39mtransform(img)\n",
      "File \u001b[0;32m/DKUdata/tangbl/anaconda/envs/bltang_new/lib/python3.9/site-packages/PIL/Image.py:3087\u001b[0m, in \u001b[0;36mfromarray\u001b[0;34m(obj, mode)\u001b[0m\n\u001b[1;32m   3040\u001b[0m \u001b[38;5;28;01mdef\u001b[39;00m \u001b[38;5;21mfromarray\u001b[39m(obj, mode\u001b[38;5;241m=\u001b[39m\u001b[38;5;28;01mNone\u001b[39;00m):\n\u001b[1;32m   3041\u001b[0m \u001b[38;5;250m    \u001b[39m\u001b[38;5;124;03m\"\"\"\u001b[39;00m\n\u001b[1;32m   3042\u001b[0m \u001b[38;5;124;03m    Creates an image memory from an object exporting the array interface\u001b[39;00m\n\u001b[1;32m   3043\u001b[0m \u001b[38;5;124;03m    (using the buffer protocol)::\u001b[39;00m\n\u001b[0;32m   (...)\u001b[0m\n\u001b[1;32m   3085\u001b[0m \u001b[38;5;124;03m    .. versionadded:: 1.1.6\u001b[39;00m\n\u001b[1;32m   3086\u001b[0m \u001b[38;5;124;03m    \"\"\"\u001b[39;00m\n\u001b[0;32m-> 3087\u001b[0m     arr \u001b[38;5;241m=\u001b[39m \u001b[43mobj\u001b[49m\u001b[38;5;241;43m.\u001b[39;49m\u001b[43m__array_interface__\u001b[49m\n\u001b[1;32m   3088\u001b[0m     shape \u001b[38;5;241m=\u001b[39m arr[\u001b[38;5;124m\"\u001b[39m\u001b[38;5;124mshape\u001b[39m\u001b[38;5;124m\"\u001b[39m]\n\u001b[1;32m   3089\u001b[0m     ndim \u001b[38;5;241m=\u001b[39m \u001b[38;5;28mlen\u001b[39m(shape)\n",
      "\u001b[0;31mKeyboardInterrupt\u001b[0m: "
     ]
    }
   ],
   "source": [
    "AE_EPOCHS = 10 # Epochs for training the autoencoder\n",
    "# We use a binary cross-entropy loss for the reconstruction error\n",
    "loss_f = nn.BCELoss()\n",
    "\n",
    "# Build the autoencoder\n",
    "autoencoder = AutoEncoder()\n",
    "autoencoder = autoencoder.to(device)\n",
    "\n",
    "optimizer = torch.optim.Adam(itertools.chain(autoencoder.parameters()),\n",
    "                             lr=1e-3, weight_decay=1e-5)\n",
    "\n",
    "for i in range(AE_EPOCHS):\n",
    "    print('Epoch #{}'.format(i+1))\n",
    "\n",
    "    losses = []\n",
    "    for batch_idx, data in enumerate(train_loader):\n",
    "\n",
    "        x, _ = data\n",
    "        x = x.to(device)\n",
    "\n",
    "        # Run the autoencoder\n",
    "        _x, emb = autoencoder(x)\n",
    "        _x = torch.sigmoid(_x)\n",
    "\n",
    "        # Compute loss\n",
    "        rec_loss = loss_f(_x, x)\n",
    "\n",
    "        if batch_idx % 200 == 0:\n",
    "            print(f\"E {i}, {batch_idx:.3f}/{len(train_loader)}: Loss: {rec_loss.item()}\")\n",
    "\n",
    "        autoencoder.zero_grad()\n",
    "        rec_loss.backward()\n",
    "        optimizer.step()"
   ]
  },
  {
   "cell_type": "code",
   "execution_count": 6,
   "id": "d10e7764",
   "metadata": {},
   "outputs": [
    {
     "data": {
      "text/plain": [
       "<All keys matched successfully>"
      ]
     },
     "execution_count": 6,
     "metadata": {},
     "output_type": "execute_result"
    }
   ],
   "source": [
    "# torch.save(autoencoder.state_dict(), \"autoencoder.pth\")\n",
    "autoencoder.load_state_dict(torch.load(\"autoencoder.pth\", map_location='cpu'))"
   ]
  },
  {
   "cell_type": "code",
   "execution_count": 7,
   "id": "97a00b6e",
   "metadata": {},
   "outputs": [
    {
     "name": "stdout",
     "output_type": "stream",
     "text": [
      "torch.Size([1, 1, 28, 28])\n"
     ]
    },
    {
     "data": {
      "image/png": "[encoded data removed]",
      "text/plain": [
       "<Figure size 640x480 with 1 Axes>"
      ]
     },
     "metadata": {},
     "output_type": "display_data"
    }
   ],
   "source": [
    "test_image = test_set[0][0].unsqueeze(0)\n",
    "test_image = test_image.to(device)\n",
    "_o, emb = autoencoder(test_image)\n",
    "_o = torch.sigmoid(_o)\n",
    "print(_o.shape)\n",
    "\n",
    "## Display the image\n",
    "plt.imshow(_o.squeeze().detach().cpu(), cmap='gray');\n",
    "plt.title(\"AutoEncoder Output\");"
   ]
  },
  {
   "cell_type": "code",
   "execution_count": 8,
   "id": "28b628a4",
   "metadata": {},
   "outputs": [
    {
     "name": "stderr",
     "output_type": "stream",
     "text": [
      "100%|██████████| 600/600 [00:08<00:00, 66.97it/s]"
     ]
    },
    {
     "name": "stdout",
     "output_type": "stream",
     "text": [
      "60000\n"
     ]
    },
    {
     "name": "stderr",
     "output_type": "stream",
     "text": [
      "\n"
     ]
    }
   ],
   "source": [
    "## 1. Extract all the data to embeddings\n",
    "import tqdm\n",
    "\n",
    "embs = []\n",
    "with torch.no_grad():\n",
    "    for data in tqdm.tqdm(train_loader):\n",
    "        x, _ = data\n",
    "        x = x.to(device)\n",
    "\n",
    "        emb = autoencoder.encoder(x).cpu()\n",
    "        for e in emb:\n",
    "            embs.append(e)\n",
    "\n",
    "print(len(embs))"
   ]
  },
  {
   "cell_type": "code",
   "execution_count": 14,
   "id": "da551813",
   "metadata": {},
   "outputs": [
    {
     "data": {
      "text/plain": [
       "<matplotlib.image.AxesImage at 0x77a198098430>"
      ]
     },
     "execution_count": 14,
     "metadata": {},
     "output_type": "execute_result"
    },
    {
     "data": {
      "image/png": "[encoded data removed]",
      "text/plain": [
       "<Figure size 640x480 with 1 Axes>"
      ]
     },
     "metadata": {},
     "output_type": "display_data"
    }
   ],
   "source": [
    "out = torch.sigmoid(autoencoder.decoder(embs[0].to(device)))\n",
    "out.shape\n",
    "plt.imshow(out[0][0].cpu().detach().numpy(), cmap='gray')"
   ]
  },
  {
   "cell_type": "code",
   "execution_count": null,
   "id": "b9a966a7",
   "metadata": {},
   "outputs": [],
   "source": [
    "emb_dataset = torch.utils.data.DataLoader(embs, batch_size=BATCH_SIZE, shuffle = True)"
   ]
  },
  {
   "cell_type": "code",
   "execution_count": 4,
   "id": "25d25fca",
   "metadata": {},
   "outputs": [],
   "source": [
    "## Energy Models\n",
    "\n",
    "class MLP(nn.Module):\n",
    "    def __init__(self, input_dim=1, hidden_dims=[40, 10], output_dim=1): # the output dimension has to be 1d\n",
    "        super(MLP, self).__init__()\n",
    "        self.fc1 = nn.Linear(input_dim, hidden_dims[0])\n",
    "        self.fc2 = nn.Linear(hidden_dims[0], hidden_dims[1])\n",
    "        self.fc3 = nn.Linear(hidden_dims[1], output_dim)\n",
    "\n",
    "    def forward(self, x):\n",
    "        x = F.relu(self.fc1(x))\n",
    "        x = F.relu(self.fc2(x))\n",
    "        x = self.fc3(x)  # logits for classification\n",
    "        return x"
   ]
  },
  {
   "cell_type": "code",
   "execution_count": 6,
   "id": "740ad26b",
   "metadata": {},
   "outputs": [
    {
     "data": {
      "text/plain": [
       "torch.Size([2, 1])"
      ]
     },
     "execution_count": 6,
     "metadata": {},
     "output_type": "execute_result"
    }
   ],
   "source": [
    "model = MLP()\n",
    "x = torch.randn([2, 1])\n",
    "out = model(x)\n",
    "out.shape"
   ]
  },
  {
   "cell_type": "code",
   "execution_count": 61,
   "id": "6564c727",
   "metadata": {},
   "outputs": [],
   "source": [
    "import tqdm\n",
    "# def log_dist_prob(x):\n",
    "#     # x: [D]\n",
    "#     return -model(x) # [1]\n",
    "def mala_sample(x, model, n_steps, n_sample_out, step = 0.2, verbose = False):\n",
    "\n",
    "    def log_q_y_x(model, step, y, x):\n",
    "        x.requires_grad_()\n",
    "        out = model(x)\n",
    "        grad = torch.autograd.grad(out, x)[0]\n",
    "        norm = -torch.norm((y - x.detach() - step / 2 * grad), 2)**2 / (4 * step)\n",
    "        return norm\n",
    "\n",
    "    def log_accept_prob(model, z_new, z, step):\n",
    "        left = model(z_new) -  model(z)\n",
    "        right = log_q_y_x(model, step, z, z_new) - log_q_y_x(model,step, z_new, z)\n",
    "        prob = left + right\n",
    "        return min(0, prob)\n",
    "    \n",
    "    res = []\n",
    "    \n",
    "    z  = torch.clone(x)\n",
    "   \n",
    "    pbar = range(n_steps)\n",
    "    if verbose:\n",
    "        pbar = tqdm.tqdm(pbar)\n",
    "\n",
    "    for _ in pbar:\n",
    "        z.requires_grad_()\n",
    "        out = model(z)\n",
    "        grad = torch.autograd.grad(out, z)[0]\n",
    "        z_new = z.detach() + step / 2 * grad + torch.randn(z.size(0), device=z.device) * np.sqrt(step)\n",
    "        a_log_prob = log_accept_prob(model, z_new, z, step)\n",
    "        if torch.log(torch.rand(1)).item() < a_log_prob:\n",
    "            z = z_new\n",
    "        res.append(z.detach())\n",
    "        if verbose:\n",
    "            pbar.set_description(f\"z value {z}, a log prob: {a_log_prob}\")\n",
    "    return torch.stack(res, axis = 0)[-n_sample_out:]\n",
    "    \n",
    "\n",
    "def train_energy_model(model, optimizer, dataloader, mala_sample_fn, epoch = 10, device=\"cuda:0\", log_interval = 100):\n",
    "    model.to(device)\n",
    "    for e in range(epoch):\n",
    "        print(f\"[Epoch {e}]\")\n",
    "        for bb, data in enumerate(dataloader):\n",
    "            data = data.to(device)\n",
    "            real_output = model(data).mean() # tensor()\n",
    "            x_sample = mala_sample_fn(torch.randn(data.shape[-1], device = device), model = lambda x: -model(x)) # [B', 20]\n",
    "            est_output = model(x_sample).mean() # tensor()\n",
    "            loss =  real_output - est_output\n",
    "            model.zero_grad()\n",
    "            loss.backward()\n",
    "            optimizer.step()\n",
    "\n",
    "            if bb % log_interval == 0:\n",
    "                print(f\"[Epoch {e}] | [{bb}|{len(dataloader)}] loss: {loss.item()}\")\n",
    "    pass"
   ]
  },
  {
   "cell_type": "code",
   "execution_count": 62,
   "id": "ca175c79",
   "metadata": {},
   "outputs": [],
   "source": [
    "# Generate fake gaussian dataset\n",
    "BATCH_SIZE = 100\n",
    "data = [torch.randn(1) for _ in range(60000)]\n",
    "dataloader = torch.utils.data.DataLoader(data, batch_size=BATCH_SIZE, shuffle = True)"
   ]
  },
  {
   "cell_type": "code",
   "execution_count": 63,
   "id": "8c56b4c5",
   "metadata": {},
   "outputs": [
    {
     "name": "stdout",
     "output_type": "stream",
     "text": [
      "[Epoch 0]\n",
      "[Epoch 0] | [0|600] loss: -0.0724763423204422\n",
      "[Epoch 0] | [100|600] loss: -0.1293853521347046\n",
      "[Epoch 0] | [200|600] loss: 0.04373519867658615\n",
      "[Epoch 0] | [300|600] loss: 0.06511157006025314\n",
      "[Epoch 0] | [400|600] loss: -0.517440915107727\n",
      "[Epoch 0] | [500|600] loss: 0.08902077376842499\n",
      "[Epoch 1]\n",
      "[Epoch 1] | [0|600] loss: -0.06520955264568329\n",
      "[Epoch 1] | [100|600] loss: -0.005418643355369568\n"
     ]
    },
    {
     "ename": "KeyboardInterrupt",
     "evalue": "",
     "output_type": "error",
     "traceback": [
      "\u001b[0;31m---------------------------------------------------------------------------\u001b[0m",
      "\u001b[0;31mKeyboardInterrupt\u001b[0m                         Traceback (most recent call last)",
      "Cell \u001b[0;32mIn[63], line 6\u001b[0m\n\u001b[1;32m      2\u001b[0m optimzer \u001b[38;5;241m=\u001b[39m torch\u001b[38;5;241m.\u001b[39moptim\u001b[38;5;241m.\u001b[39mSGD(model\u001b[38;5;241m.\u001b[39mparameters(), lr \u001b[38;5;241m=\u001b[39m \u001b[38;5;241m1.0e-4\u001b[39m)\n\u001b[1;32m      4\u001b[0m mala_sample_fn \u001b[38;5;241m=\u001b[39m partial(mala_sample, n_steps \u001b[38;5;241m=\u001b[39m \u001b[38;5;241m50\u001b[39m, n_sample_out \u001b[38;5;241m=\u001b[39m \u001b[38;5;241m10\u001b[39m, step \u001b[38;5;241m=\u001b[39m \u001b[38;5;241m0.2\u001b[39m)\n\u001b[0;32m----> 6\u001b[0m \u001b[43mtrain_energy_model\u001b[49m\u001b[43m(\u001b[49m\u001b[43mmodel\u001b[49m\u001b[43m,\u001b[49m\u001b[43m \u001b[49m\u001b[43moptimzer\u001b[49m\u001b[43m,\u001b[49m\u001b[43m \u001b[49m\u001b[43mdataloader\u001b[49m\u001b[43m,\u001b[49m\u001b[43m \u001b[49m\u001b[43mmala_sample_fn\u001b[49m\u001b[43m,\u001b[49m\u001b[43m \u001b[49m\u001b[43mepoch\u001b[49m\u001b[43m \u001b[49m\u001b[38;5;241;43m=\u001b[39;49m\u001b[43m \u001b[49m\u001b[38;5;241;43m5\u001b[39;49m\u001b[43m)\u001b[49m\n",
      "Cell \u001b[0;32mIn[61], line 49\u001b[0m, in \u001b[0;36mtrain_energy_model\u001b[0;34m(model, optimizer, dataloader, mala_sample_fn, epoch, device, log_interval)\u001b[0m\n\u001b[1;32m     47\u001b[0m data \u001b[38;5;241m=\u001b[39m data\u001b[38;5;241m.\u001b[39mto(device)\n\u001b[1;32m     48\u001b[0m real_output \u001b[38;5;241m=\u001b[39m model(data)\u001b[38;5;241m.\u001b[39mmean() \u001b[38;5;66;03m# tensor()\u001b[39;00m\n\u001b[0;32m---> 49\u001b[0m x_sample \u001b[38;5;241m=\u001b[39m \u001b[43mmala_sample_fn\u001b[49m\u001b[43m(\u001b[49m\u001b[43mtorch\u001b[49m\u001b[38;5;241;43m.\u001b[39;49m\u001b[43mrandn\u001b[49m\u001b[43m(\u001b[49m\u001b[43mdata\u001b[49m\u001b[38;5;241;43m.\u001b[39;49m\u001b[43mshape\u001b[49m\u001b[43m[\u001b[49m\u001b[38;5;241;43m-\u001b[39;49m\u001b[38;5;241;43m1\u001b[39;49m\u001b[43m]\u001b[49m\u001b[43m,\u001b[49m\u001b[43m \u001b[49m\u001b[43mdevice\u001b[49m\u001b[43m \u001b[49m\u001b[38;5;241;43m=\u001b[39;49m\u001b[43m \u001b[49m\u001b[43mdevice\u001b[49m\u001b[43m)\u001b[49m\u001b[43m,\u001b[49m\u001b[43m \u001b[49m\u001b[43mmodel\u001b[49m\u001b[43m \u001b[49m\u001b[38;5;241;43m=\u001b[39;49m\u001b[43m \u001b[49m\u001b[38;5;28;43;01mlambda\u001b[39;49;00m\u001b[43m \u001b[49m\u001b[43mx\u001b[49m\u001b[43m:\u001b[49m\u001b[43m \u001b[49m\u001b[38;5;241;43m-\u001b[39;49m\u001b[43mmodel\u001b[49m\u001b[43m(\u001b[49m\u001b[43mx\u001b[49m\u001b[43m)\u001b[49m\u001b[43m)\u001b[49m \u001b[38;5;66;03m# [B', 20]\u001b[39;00m\n\u001b[1;32m     50\u001b[0m est_output \u001b[38;5;241m=\u001b[39m model(x_sample)\u001b[38;5;241m.\u001b[39mmean() \u001b[38;5;66;03m# tensor()\u001b[39;00m\n\u001b[1;32m     51\u001b[0m loss \u001b[38;5;241m=\u001b[39m  real_output \u001b[38;5;241m-\u001b[39m est_output\n",
      "Cell \u001b[0;32mIn[61], line 32\u001b[0m, in \u001b[0;36mmala_sample\u001b[0;34m(x, model, n_steps, n_sample_out, step, verbose)\u001b[0m\n\u001b[1;32m     30\u001b[0m out \u001b[38;5;241m=\u001b[39m model(z)\n\u001b[1;32m     31\u001b[0m grad \u001b[38;5;241m=\u001b[39m torch\u001b[38;5;241m.\u001b[39mautograd\u001b[38;5;241m.\u001b[39mgrad(out, z)[\u001b[38;5;241m0\u001b[39m]\n\u001b[0;32m---> 32\u001b[0m z_new \u001b[38;5;241m=\u001b[39m z\u001b[38;5;241m.\u001b[39mdetach() \u001b[38;5;241m+\u001b[39m \u001b[43mstep\u001b[49m\u001b[43m \u001b[49m\u001b[38;5;241;43m/\u001b[39;49m\u001b[43m \u001b[49m\u001b[38;5;241;43m2\u001b[39;49m\u001b[43m \u001b[49m\u001b[38;5;241;43m*\u001b[39;49m\u001b[43m \u001b[49m\u001b[43mgrad\u001b[49m \u001b[38;5;241m+\u001b[39m torch\u001b[38;5;241m.\u001b[39mrandn(z\u001b[38;5;241m.\u001b[39msize(\u001b[38;5;241m0\u001b[39m), device\u001b[38;5;241m=\u001b[39mz\u001b[38;5;241m.\u001b[39mdevice) \u001b[38;5;241m*\u001b[39m np\u001b[38;5;241m.\u001b[39msqrt(step)\n\u001b[1;32m     33\u001b[0m a_log_prob \u001b[38;5;241m=\u001b[39m log_accept_prob(model, z_new, z, step)\n\u001b[1;32m     34\u001b[0m \u001b[38;5;28;01mif\u001b[39;00m torch\u001b[38;5;241m.\u001b[39mlog(torch\u001b[38;5;241m.\u001b[39mrand(\u001b[38;5;241m1\u001b[39m))\u001b[38;5;241m.\u001b[39mitem() \u001b[38;5;241m<\u001b[39m a_log_prob:\n",
      "\u001b[0;31mKeyboardInterrupt\u001b[0m: "
     ]
    }
   ],
   "source": [
    "model = MLP()\n",
    "optimzer = torch.optim.SGD(model.parameters(), lr = 1.0e-4)\n",
    "\n",
    "mala_sample_fn = partial(mala_sample, n_steps = 50, n_sample_out = 10, step = 0.2)\n",
    "\n",
    "train_energy_model(model, optimzer, dataloader, mala_sample_fn, epoch = 5)"
   ]
  },
  {
   "cell_type": "code",
   "execution_count": 58,
   "id": "45354ede",
   "metadata": {},
   "outputs": [
    {
     "name": "stderr",
     "output_type": "stream",
     "text": [
      "z value tensor([-0.6717], device='cuda:4', requires_grad=True), a log prob: tensor([-2.3055e-05], device='cuda:4', grad_fn=<AddBackward0>):   0%|          | 0/1000 [00:00<?, ?it/s]"
     ]
    },
    {
     "name": "stderr",
     "output_type": "stream",
     "text": [
      "z value tensor([-6.0840], device='cuda:4', requires_grad=True), a log prob: tensor([-0.0175], device='cuda:4', grad_fn=<AddBackward0>): 100%|██████████| 1000/1000 [00:06<00:00, 144.61it/s]   \n"
     ]
    }
   ],
   "source": [
    "model.to(device)\n",
    "out = mala_sample(x = torch.randn(1, device = device), model = lambda x: -model(x), n_steps = 1000, n_sample_out = 100, step = 0.2, verbose = True)\n",
    "out = out.cpu()"
   ]
  },
  {
   "cell_type": "code",
   "execution_count": 59,
   "id": "ec99aaaf",
   "metadata": {},
   "outputs": [
    {
     "data": {
      "text/plain": [
       "tensor([[ -5.4433],\n",
       "        [ -5.3610],\n",
       "        [ -5.5237],\n",
       "        [ -5.4671],\n",
       "        [ -5.8351],\n",
       "        [ -5.5344],\n",
       "        [ -5.9060],\n",
       "        [ -5.9069],\n",
       "        [ -6.2186],\n",
       "        [ -6.5069],\n",
       "        [ -6.9296],\n",
       "        [ -7.6025],\n",
       "        [ -8.4267],\n",
       "        [ -8.4431],\n",
       "        [ -8.4418],\n",
       "        [ -8.3669],\n",
       "        [ -7.9522],\n",
       "        [ -8.6830],\n",
       "        [ -8.2739],\n",
       "        [ -8.3452],\n",
       "        [ -8.9463],\n",
       "        [ -9.9488],\n",
       "        [-10.0896],\n",
       "        [ -9.3286],\n",
       "        [ -9.0153],\n",
       "        [ -8.9883],\n",
       "        [ -9.4814],\n",
       "        [ -9.2846],\n",
       "        [ -8.7540],\n",
       "        [ -8.9804],\n",
       "        [ -9.1143],\n",
       "        [ -8.5570],\n",
       "        [ -8.5830],\n",
       "        [ -8.5901],\n",
       "        [ -8.5211],\n",
       "        [ -8.2391],\n",
       "        [ -7.9109],\n",
       "        [ -7.1593],\n",
       "        [ -6.6322],\n",
       "        [ -6.3439],\n",
       "        [ -6.4823],\n",
       "        [ -6.5888],\n",
       "        [ -6.2740],\n",
       "        [ -6.6438],\n",
       "        [ -6.8305],\n",
       "        [ -6.8217],\n",
       "        [ -7.6291],\n",
       "        [ -7.7373],\n",
       "        [ -7.9732],\n",
       "        [ -7.7741],\n",
       "        [ -7.5013],\n",
       "        [ -7.7017],\n",
       "        [ -7.8916],\n",
       "        [ -8.2565],\n",
       "        [ -7.9391],\n",
       "        [ -7.7837],\n",
       "        [ -8.6635],\n",
       "        [ -9.4658],\n",
       "        [ -9.2572],\n",
       "        [ -9.6634],\n",
       "        [ -9.5277],\n",
       "        [ -9.5634],\n",
       "        [ -9.2873],\n",
       "        [ -8.2251],\n",
       "        [ -8.7357],\n",
       "        [ -9.3942],\n",
       "        [ -9.1239],\n",
       "        [ -9.7121],\n",
       "        [ -9.1764],\n",
       "        [ -8.5737],\n",
       "        [ -8.2617],\n",
       "        [ -7.8925],\n",
       "        [ -8.5896],\n",
       "        [ -8.4142],\n",
       "        [ -7.6610],\n",
       "        [ -7.2613],\n",
       "        [ -7.2933],\n",
       "        [ -7.6286],\n",
       "        [ -8.9705],\n",
       "        [ -8.4438],\n",
       "        [ -8.4163],\n",
       "        [ -9.0179],\n",
       "        [ -9.4202],\n",
       "        [ -9.1991],\n",
       "        [ -8.3274],\n",
       "        [ -8.5586],\n",
       "        [ -8.1524],\n",
       "        [ -7.7261],\n",
       "        [ -8.0655],\n",
       "        [ -8.1373],\n",
       "        [ -7.4238],\n",
       "        [ -7.4834],\n",
       "        [ -7.6275],\n",
       "        [ -7.7073],\n",
       "        [ -8.0583],\n",
       "        [ -7.7591],\n",
       "        [ -6.9041],\n",
       "        [ -6.4229],\n",
       "        [ -5.5206],\n",
       "        [ -6.0840]])"
      ]
     },
     "execution_count": 59,
     "metadata": {},
     "output_type": "execute_result"
    }
   ],
   "source": [
    "out"
   ]
  },
  {
   "cell_type": "code",
   "execution_count": 60,
   "id": "caeaf915",
   "metadata": {},
   "outputs": [
    {
     "data": {
      "image/png": "[encoded data removed]",
      "text/plain": [
       "<Figure size 3000x500 with 3 Axes>"
      ]
     },
     "metadata": {},
     "output_type": "display_data"
    }
   ],
   "source": [
    "chain_1_MALA_1d = out\n",
    "chain_2_MALA_1d = out\n",
    "fig, ax = plt.subplots(1,3,figsize=(30,5))\n",
    "ax[0].hist(chain_1_MALA_1d, bins=50, alpha=0.5, label='Chain 1')\n",
    "ax[0].hist(chain_2_MALA_1d, bins=50, alpha=0.5, label='Chain 2')\n",
    "ax[0].legend()\n",
    "ax[0].set_xlabel('Counts')\n",
    "ax[0].set_ylabel('Values')\n",
    "\n",
    "# Assuming ax is your subplot axes\n",
    "sns.kdeplot(chain_1_MALA_1d.reshape(-1), ax=ax[1], label='Chain 1')\n",
    "sns.kdeplot(chain_2_MALA_1d.reshape(-1), ax=ax[1], label='Chain 2')\n",
    "\n",
    "# Set labels and legend for the KDE plot\n",
    "ax[1].set_xlabel('Values')\n",
    "ax[1].set_ylabel('Density')\n",
    "ax[1].legend()\n",
    "\n",
    "\n",
    "ax[2].plot(chain_1_MALA_1d, alpha=0.5, label='Chain 1')\n",
    "ax[2].plot(chain_2_MALA_1d, alpha=0.5, label='Chain 2')\n",
    "ax[2].set_ylim([-3,3])\n",
    "ax[2].legend()\n",
    "ax[2].set_xlabel('Sampling Iteration')\n",
    "ax[2].set_ylabel('Value')\n",
    "\n",
    "ax[0].set_title('Histogram of Samples - MALA')\n",
    "ax[1].set_title('KDE Plot of Samples - MALA')\n",
    "ax[2].set_title('Traceplot of Samples - MALA')\n",
    "\n",
    "ax[0].spines[['right', 'top']].set_visible(False)\n",
    "ax[1].spines[['right', 'top']].set_visible(False)\n",
    "ax[2].spines[['right', 'top']].set_visible(False)\n",
    "\n",
    "plt.show()"
   ]
  },
  {
   "cell_type": "code",
   "execution_count": 81,
   "id": "6e684b81",
   "metadata": {},
   "outputs": [
    {
     "data": {
      "image/png": "[encoded data removed]",
      "text/plain": [
       "<Figure size 800x800 with 1 Axes>"
      ]
     },
     "metadata": {},
     "output_type": "display_data"
    }
   ],
   "source": [
    "import torchvision.utils as vutils\n",
    "\n",
    "## Display the image\n",
    "plt.figure(figsize=(8, 8))\n",
    "plt.axis(\"off\")\n",
    "plt.title(\"NF generated images\")\n",
    "plt.imshow(np.transpose(vutils.make_grid(out.to(device), padding=2, normalize=True).cpu(),(1,2,0)))\n",
    "plt.show()"
   ]
  },
  {
   "cell_type": "code",
   "execution_count": 29,
   "id": "a720f935",
   "metadata": {},
   "outputs": [
    {
     "data": {
      "text/plain": [
       "<matplotlib.image.AxesImage at 0x77a18473ddc0>"
      ]
     },
     "execution_count": 29,
     "metadata": {},
     "output_type": "execute_result"
    },
    {
     "data": {
      "image/png": "[encoded data removed]",
      "text/plain": [
       "<Figure size 640x480 with 1 Axes>"
      ]
     },
     "metadata": {},
     "output_type": "display_data"
    }
   ],
   "source": [
    "plt.imshow(out[0][0].cpu().detach().numpy())"
   ]
  }
 ],
 "metadata": {
  "kernelspec": {
   "display_name": "bltang_new",
   "language": "python",
   "name": "python3"
  },
  "language_info": {
   "codemirror_mode": {
    "name": "ipython",
    "version": 3
   },
   "file_extension": ".py",
   "mimetype": "text/x-python",
   "name": "python",
   "nbconvert_exporter": "python",
   "pygments_lexer": "ipython3",
   "version": "3.9.13"
  }
 },
 "nbformat": 4,
 "nbformat_minor": 5
}
