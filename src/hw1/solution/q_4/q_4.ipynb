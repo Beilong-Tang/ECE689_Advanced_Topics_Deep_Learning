{
 "cells": [
  {
   "cell_type": "markdown",
   "id": "bd2d3fff",
   "metadata": {},
   "source": [
    "## Question 4: Energy-based Models\n",
    "\n",
    "- make a simple energy-based model (exp^-NN).\n",
    "- train and use Gibbs sampling method on USPS."
   ]
  },
  {
   "cell_type": "markdown",
   "id": "f2177b07",
   "metadata": {},
   "source": [
    "## Quick Notes\n",
    "\n",
    "I used a simple MLP as the energy model. \n",
    "\n",
    "Note that I did not apply Gibbs sampling as the condition are hard (unlikely) to model because I use a simple MLP model. Instead, I used Matropolis-Hasting algorithm, which can be considered as a variant of Gibbs sampling. "
   ]
  },
  {
   "cell_type": "markdown",
   "id": "51f3cfb9",
   "metadata": {},
   "source": [
    "## Data Preparation\n",
    "\n",
    "I download USPS dataset from https://github.com/darshanbagul/USPS_Digit_Classification/blob/master/USPSdata/USPSdata.zip and unzip to 'data/' folder"
   ]
  },
  {
   "cell_type": "code",
   "execution_count": null,
   "id": "85d48173",
   "metadata": {},
   "outputs": [],
   "source": [
    "# Import pacakges\n",
    "import torch\n",
    "from torch import nn\n",
    "import torch.nn.functional as F\n",
    "import numpy as np\n",
    "from torchvision import datasets, transforms\n",
    "import itertools\n",
    "import matplotlib.pyplot as plt\n",
    "from functools import partial\n",
    "import datetime\n",
    "import os\n",
    "import glob\n",
    "import cv2\n",
    "import tqdm"
   ]
  },
  {
   "cell_type": "code",
   "execution_count": null,
   "id": "06c826af",
   "metadata": {},
   "outputs": [],
   "source": [
    "# Data preparation\n",
    "if not os.path.exists(\"data/Numerals\"):\n",
    "    raise Exception(\"USPS data not found, please download the raw dataset from https://github.com/darshanbagul/USPS_Digit_Classification/blob/master/USPSdata/USPSdata.zip and unzip to 'data/' folder\")"
   ]
  },
  {
   "cell_type": "code",
   "execution_count": 109,
   "id": "7ba5890d",
   "metadata": {},
   "outputs": [
    {
     "name": "stderr",
     "output_type": "stream",
     "text": [
      "Processing USPS images:   0%|          | 0/19999 [00:00<?, ?it/s]"
     ]
    },
    {
     "name": "stderr",
     "output_type": "stream",
     "text": [
      "Processing USPS images: 100%|██████████| 19999/19999 [00:14<00:00, 1352.46it/s]\n"
     ]
    }
   ],
   "source": [
    "# Process dataset\n",
    "def process_data(dir, size):\n",
    "    def resize_and_scale(img, size, scale):\n",
    "        img = cv2.resize(img, size)\n",
    "        return 1 - np.array(img, \"float32\")/scale\n",
    "\n",
    "    images = glob.glob(os.path.join(dir, \"*\", \"*.png\"))\n",
    "    res = []\n",
    "    for img_path in tqdm.tqdm(images, desc='Processing USPS images'):\n",
    "        img = cv2.imread(img_path)\n",
    "        img = cv2.cvtColor(img, cv2.COLOR_BGR2GRAY)\n",
    "        resized_img = resize_and_scale(img, size, 256)\n",
    "        res.append(np.expand_dims(resized_img, axis = 0))\n",
    "    return res\n",
    "\n",
    "\n",
    "size = (28,28)\n",
    "images = process_data(\"data/Numerals\", size)"
   ]
  },
  {
   "cell_type": "code",
   "execution_count": 111,
   "id": "393e39ce",
   "metadata": {},
   "outputs": [
    {
     "data": {
      "image/png": "[encoded data removed]",
      "text/plain": [
       "<Figure size 200x200 with 1 Axes>"
      ]
     },
     "metadata": {},
     "output_type": "display_data"
    }
   ],
   "source": [
    "images[0].shape\n",
    "\n",
    "plt.figure(figsize=(2,2))\n",
    "plt.imshow(images[12000].squeeze(), cmap='gray')\n",
    "plt.axis('off')  # Optional: hide axes\n",
    "plt.tight_layout()\n",
    "plt.show()"
   ]
  },
  {
   "cell_type": "code",
   "execution_count": 112,
   "id": "64972e42",
   "metadata": {},
   "outputs": [
    {
     "name": "stdout",
     "output_type": "stream",
     "text": [
      "device: cuda:4\n"
     ]
    }
   ],
   "source": [
    "# Set the random seeds\n",
    "torch.manual_seed(0)\n",
    "np.random.seed(0)\n",
    "\n",
    "torch.backends.cudnn.deterministic = True\n",
    "torch.backends.cudnn.benchmark = False\n",
    "device = torch.device('cuda:4' if torch.cuda.is_available() else 'cpu')\n",
    "print(\"device:\", device)"
   ]
  },
  {
   "cell_type": "code",
   "execution_count": 113,
   "id": "a98e160d",
   "metadata": {},
   "outputs": [],
   "source": [
    "EMBEDDING_DIM = 20 # The dimension of the embeddings\n",
    "\n",
    "class AutoEncoder(nn.Module):\n",
    "    \"\"\"\n",
    "    A simple autoencoder for images. \n",
    "    self.linear1 generates the intermediate embeddings that we use for the normalizing flow.\n",
    "    \"\"\"\n",
    "    def __init__(self):\n",
    "        super().__init__()\n",
    "        \n",
    "        # Encoding layers\n",
    "        self.conv1 = nn.Conv2d(in_channels=1, out_channels=32, stride=2, kernel_size=3, bias=False, padding=1)\n",
    "        self.conv2 = nn.Conv2d(in_channels=32, out_channels=64, stride=2, kernel_size=3, bias=False, padding=1)\n",
    "        self.linear1 = nn.Linear(in_features=3136, out_features=EMBEDDING_DIM)\n",
    "        \n",
    "        # Decoding layers\n",
    "        self.linear2 = nn.Linear(in_features=EMBEDDING_DIM, out_features=3136)\n",
    "        self.convt1 = nn.ConvTranspose2d(in_channels=64, out_channels=32, stride=2, kernel_size=3, padding=1, output_padding=1)\n",
    "        self.convt2 = nn.ConvTranspose2d(in_channels=32, out_channels=1, stride=2, kernel_size=3, padding=1, output_padding=1)\n",
    "\n",
    "\n",
    "    def forward(self, x):\n",
    "        \n",
    "        emb = self.encoder(x)\n",
    "        _x = self.decoder(emb)\n",
    "        \n",
    "        return _x, emb\n",
    "    \n",
    "    def decoder(self, emb):\n",
    "\n",
    "        _x = torch.relu(self.linear2(emb))\n",
    "        _x = _x.view(-1, 64, 7, 7)\n",
    "        _x = torch.relu(self.convt1(_x))\n",
    "        _x = self.convt2(_x)\n",
    "        \n",
    "        return _x\n",
    "    \n",
    "    def encoder(self, x):\n",
    "        _x = torch.relu(self.conv1(x))\n",
    "        _x = torch.relu(self.conv2(_x))\n",
    "        sh = _x.shape\n",
    "\n",
    "        _x = torch.relu(torch.flatten(_x, 1))\n",
    "        \n",
    "        emb = self.linear1(_x)\n",
    "        \n",
    "        return emb"
   ]
  },
  {
   "cell_type": "code",
   "execution_count": 114,
   "id": "f54aba1d",
   "metadata": {},
   "outputs": [],
   "source": [
    "BATCH_SIZE = 100 # Batch size\n",
    "# Load the dataset\n",
    "train_loader = torch.utils.data.DataLoader(images, BATCH_SIZE)"
   ]
  },
  {
   "cell_type": "code",
   "execution_count": 123,
   "id": "2e8478b0",
   "metadata": {},
   "outputs": [],
   "source": [
    "AE_EPOCHS = 20 # Epochs for training the autoencoder\n",
    "# We use a binary cross-entropy loss for the reconstruction error\n",
    "loss_f = nn.BCELoss()\n",
    "\n",
    "# Build the autoencoder\n",
    "autoencoder = AutoEncoder()\n",
    "autoencoder = autoencoder.to(device)\n",
    "\n",
    "optimizer = torch.optim.Adam(itertools.chain(autoencoder.parameters()),\n",
    "                             lr=1e-3, weight_decay=1e-5)"
   ]
  },
  {
   "cell_type": "code",
   "execution_count": 124,
   "id": "86240463",
   "metadata": {},
   "outputs": [
    {
     "name": "stdout",
     "output_type": "stream",
     "text": [
      "Epoch #1\n",
      "E 0, 0.000/200: Loss: 0.6689754724502563\n",
      "Epoch #2\n",
      "E 1, 0.000/200: Loss: 0.3634474277496338\n",
      "Epoch #3\n",
      "E 2, 0.000/200: Loss: 0.2710687518119812\n",
      "Epoch #4\n",
      "E 3, 0.000/200: Loss: 0.2175598442554474\n",
      "Epoch #5\n",
      "E 4, 0.000/200: Loss: 0.19338959455490112\n",
      "Epoch #6\n",
      "E 5, 0.000/200: Loss: 0.17870816588401794\n",
      "Epoch #7\n",
      "E 6, 0.000/200: Loss: 0.1705603003501892\n",
      "Epoch #8\n",
      "E 7, 0.000/200: Loss: 0.16525226831436157\n",
      "Epoch #9\n",
      "E 8, 0.000/200: Loss: 0.16073068976402283\n",
      "Epoch #10\n",
      "E 9, 0.000/200: Loss: 0.1568240225315094\n",
      "Epoch #11\n",
      "E 10, 0.000/200: Loss: 0.15362133085727692\n",
      "Epoch #12\n",
      "E 11, 0.000/200: Loss: 0.15090644359588623\n",
      "Epoch #13\n",
      "E 12, 0.000/200: Loss: 0.1487240195274353\n",
      "Epoch #14\n",
      "E 13, 0.000/200: Loss: 0.1468474119901657\n",
      "Epoch #15\n",
      "E 14, 0.000/200: Loss: 0.14517652988433838\n",
      "Epoch #16\n",
      "E 15, 0.000/200: Loss: 0.14390191435813904\n",
      "Epoch #17\n",
      "E 16, 0.000/200: Loss: 0.14273639023303986\n",
      "Epoch #18\n",
      "E 17, 0.000/200: Loss: 0.14192190766334534\n",
      "Epoch #19\n",
      "E 18, 0.000/200: Loss: 0.14117185771465302\n",
      "Epoch #20\n",
      "E 19, 0.000/200: Loss: 0.14068472385406494\n"
     ]
    }
   ],
   "source": [
    "for i in range(AE_EPOCHS):\n",
    "    print('Epoch #{}'.format(i+1))\n",
    "\n",
    "    losses = []\n",
    "    for batch_idx, data in enumerate(train_loader):\n",
    "\n",
    "        x = data\n",
    "        x = x.to(device)\n",
    "\n",
    "        # Run the autoencoder\n",
    "        _x, emb = autoencoder(x)\n",
    "        _x = torch.sigmoid(_x)\n",
    "\n",
    "        # Compute loss\n",
    "        rec_loss = loss_f(_x, x)\n",
    "\n",
    "        if batch_idx % 200 == 0:\n",
    "            print(f\"E {i}, {batch_idx:.3f}/{len(train_loader)}: Loss: {rec_loss.item()}\")\n",
    "\n",
    "        autoencoder.zero_grad()\n",
    "        rec_loss.backward()\n",
    "        optimizer.step()"
   ]
  },
  {
   "cell_type": "code",
   "execution_count": null,
   "id": "d10e7764",
   "metadata": {},
   "outputs": [],
   "source": [
    "\n",
    "torch.save(autoencoder.state_dict(), \"autoencoder.pth\")\n",
    "# autoencoder.load_state_dict(torch.load(\"autoencoder.pth\", map_location='cpu'))"
   ]
  },
  {
   "cell_type": "code",
   "execution_count": 126,
   "id": "97a00b6e",
   "metadata": {},
   "outputs": [
    {
     "name": "stdout",
     "output_type": "stream",
     "text": [
      "torch.Size([1, 1, 28, 28])\n"
     ]
    },
    {
     "data": {
      "image/png": "[encoded data removed]",
      "text/plain": [
       "<Figure size 640x480 with 1 Axes>"
      ]
     },
     "metadata": {},
     "output_type": "display_data"
    }
   ],
   "source": [
    "test_image = torch.from_numpy(images[12000]).unsqueeze(0)\n",
    "test_image = test_image.to(device)\n",
    "_o, emb = autoencoder(test_image)\n",
    "_o = torch.sigmoid(_o)\n",
    "print(_o.shape)\n",
    "\n",
    "## Display the image\n",
    "plt.imshow(_o.squeeze().detach().cpu(), cmap='gray');\n",
    "plt.title(\"AutoEncoder Output\");"
   ]
  },
  {
   "cell_type": "code",
   "execution_count": 128,
   "id": "28b628a4",
   "metadata": {},
   "outputs": [
    {
     "name": "stderr",
     "output_type": "stream",
     "text": [
      "100%|██████████| 200/200 [00:00<00:00, 851.10it/s]"
     ]
    },
    {
     "name": "stdout",
     "output_type": "stream",
     "text": [
      "19999\n"
     ]
    },
    {
     "name": "stderr",
     "output_type": "stream",
     "text": [
      "\n"
     ]
    }
   ],
   "source": [
    "## 1. Extract all the data to embeddings\n",
    "import tqdm\n",
    "\n",
    "embs = []\n",
    "with torch.no_grad():\n",
    "    for data in tqdm.tqdm(train_loader):\n",
    "        x  = data\n",
    "        x = x.to(device)\n",
    "\n",
    "        emb = autoencoder.encoder(x).cpu()\n",
    "        for e in emb:\n",
    "            embs.append(e)\n",
    "\n",
    "print(len(embs))"
   ]
  },
  {
   "cell_type": "code",
   "execution_count": 130,
   "id": "b9a966a7",
   "metadata": {},
   "outputs": [],
   "source": [
    "BATCH_SIZE=30\n",
    "emb_dataset = torch.utils.data.DataLoader(embs, batch_size=BATCH_SIZE, shuffle = True)"
   ]
  },
  {
   "cell_type": "code",
   "execution_count": 131,
   "id": "25d25fca",
   "metadata": {},
   "outputs": [],
   "source": [
    "## Energy Models\n",
    "\n",
    "class MLP(nn.Module):\n",
    "    def __init__(self, input_dim=20, hidden_dims=[256, 128], output_dim=1): # the output dimension has to be 1d\n",
    "        super(MLP, self).__init__()\n",
    "        self.fc1 = nn.Linear(input_dim, hidden_dims[0])\n",
    "        self.fc2 = nn.Linear(hidden_dims[0], hidden_dims[1])\n",
    "        self.fc3 = nn.Linear(hidden_dims[1], output_dim)\n",
    "\n",
    "    def forward(self, x):\n",
    "        x = F.silu(self.fc1(x))\n",
    "        x = F.silu(self.fc2(x))\n",
    "        x = self.fc3(x)  # logits for classification\n",
    "        return x"
   ]
  },
  {
   "cell_type": "code",
   "execution_count": 132,
   "id": "740ad26b",
   "metadata": {},
   "outputs": [
    {
     "data": {
      "text/plain": [
       "torch.Size([2, 1])"
      ]
     },
     "execution_count": 132,
     "metadata": {},
     "output_type": "execute_result"
    }
   ],
   "source": [
    "model = MLP()\n",
    "x = torch.randn([2, 20])\n",
    "out = model(x)\n",
    "out.shape"
   ]
  },
  {
   "cell_type": "code",
   "execution_count": null,
   "id": "6564c727",
   "metadata": {},
   "outputs": [],
   "source": [
    "import time\n",
    "\n",
    "def matropolis_sampling(x, log_prob, n_steps, n_sample_out, var):\n",
    "\n",
    "    def _sample_next(x, var):\n",
    "        # x: numpy 1d \n",
    "        return torch.randn(x.shape[0], device=x.device) * np.sqrt(var) + x\n",
    "    \n",
    "\n",
    "    res = []\n",
    "    for _ in range(n_steps):\n",
    "        x_next = _sample_next(x, var)\n",
    "        accept_prob_log = min(0, (log_prob(x_next) - log_prob(x)).item())\n",
    "        if torch.log(torch.rand(1)).item() < accept_prob_log:\n",
    "            x = x_next\n",
    "        res.append(x)\n",
    "    return torch.stack(res, axis = 0)[-n_sample_out:]\n",
    "    \n",
    "\n",
    "def train_energy_model(model, optimizer, sample_fn, epoch = 10, device=device, log_interval = 100):\n",
    "    model.to(device)\n",
    "    for e in range(epoch):\n",
    "        print(f\"[Epoch {e}]\")\n",
    "        start = time.time()\n",
    "        for bb, data in enumerate(emb_dataset):\n",
    "            data = data.to(device)\n",
    "            real_output = model(data).mean() # tensor()\n",
    "            x_sample = sample_fn(torch.randn(data.shape[-1], device = device), log_prob = lambda x: -model(x)) # [B', 20]\n",
    "            est_output = model(x_sample).mean() # tensor()\n",
    "            loss = real_output - est_output\n",
    "            model.zero_grad()\n",
    "            loss.backward()\n",
    "            optimizer.step()\n",
    "\n",
    "            if bb % log_interval == 0:\n",
    "                print(f\"[Epoch {e}] | [{bb}|{len(emb_dataset)}] loss: {loss.item()}, est epoch: {datetime.timedelta(seconds=(len(emb_dataset) -1 - bb) / log_interval * (time.time() - start))}\")\n",
    "                start = time.time()\n",
    "    pass"
   ]
  },
  {
   "cell_type": "code",
   "execution_count": 139,
   "id": "8c56b4c5",
   "metadata": {},
   "outputs": [
    {
     "name": "stdout",
     "output_type": "stream",
     "text": [
      "[Epoch 0]\n",
      "[Epoch 0] | [0|667] loss: 0.3361457586288452, est epoch: 0:00:01.515672\n",
      "[Epoch 0] | [100|667] loss: -5.405837059020996, est epoch: 0:01:52.179416\n",
      "[Epoch 0] | [200|667] loss: 0.24352741241455078, est epoch: 0:01:32.543386\n",
      "[Epoch 0] | [300|667] loss: -1.3397431373596191, est epoch: 0:01:13.173069\n",
      "[Epoch 0] | [400|667] loss: 1.1223125457763672, est epoch: 0:00:53.383936\n",
      "[Epoch 0] | [500|667] loss: 1.663149118423462, est epoch: 0:00:33.129432\n",
      "[Epoch 0] | [600|667] loss: -3.5593321323394775, est epoch: 0:00:13.277873\n",
      "[Epoch 1]\n",
      "[Epoch 1] | [0|667] loss: -2.4365744590759277, est epoch: 0:00:01.352557\n",
      "[Epoch 1] | [100|667] loss: -5.457645416259766, est epoch: 0:01:53.585469\n",
      "[Epoch 1] | [200|667] loss: 1.8958981037139893, est epoch: 0:01:35.247466\n",
      "[Epoch 1] | [300|667] loss: 0.4420003890991211, est epoch: 0:01:14.567428\n",
      "[Epoch 1] | [400|667] loss: -0.6683163642883301, est epoch: 0:00:54.915293\n",
      "[Epoch 1] | [500|667] loss: -1.1437411308288574, est epoch: 0:00:33.960104\n",
      "[Epoch 1] | [600|667] loss: 6.552680015563965, est epoch: 0:00:13.612757\n",
      "[Epoch 2]\n",
      "[Epoch 2] | [0|667] loss: -2.5122077465057373, est epoch: 0:00:01.374542\n",
      "[Epoch 2] | [100|667] loss: -0.9277081489562988, est epoch: 0:01:55.458237\n",
      "[Epoch 2] | [200|667] loss: -6.123650550842285, est epoch: 0:01:33.177128\n",
      "[Epoch 2] | [300|667] loss: 1.3348523378372192, est epoch: 0:01:12.092753\n",
      "[Epoch 2] | [400|667] loss: 5.189681053161621, est epoch: 0:00:52.886868\n",
      "[Epoch 2] | [500|667] loss: 5.109016418457031, est epoch: 0:00:33.248555\n",
      "[Epoch 2] | [600|667] loss: -0.9276106357574463, est epoch: 0:00:13.334757\n"
     ]
    }
   ],
   "source": [
    "model = MLP()\n",
    "optimizer = torch.optim.Adam(model.parameters(), lr = 1.0e-3)\n",
    "\n",
    "sample_fn = partial(matropolis_sampling, n_steps = 300, n_sample_out = 50, var = 0.1)\n",
    "\n",
    "out = sample_fn(x = torch.randn(20), log_prob = model)\n",
    "out.shape\n",
    "# if os.path.exists('energy_mlp_model.pth'):\n",
    "#     model.load_state_dict(torch.load('energy_mlp_model.pth', map_location='cpu'))\n",
    "# else:\n",
    "train_energy_model(model, optimizer, sample_fn, epoch = 3, device=device)\n",
    "torch.save(model.state_dict(), 'energy_mlp_model.pth')"
   ]
  },
  {
   "cell_type": "code",
   "execution_count": 142,
   "id": "c02497fc",
   "metadata": {},
   "outputs": [],
   "source": [
    "@torch.no_grad()\n",
    "def sample_plot(n_sample, autoencoder, model, sample_fn, index):\n",
    "    def _plot_image_row(row_images, titles=None, cmap='gray'):\n",
    "        num_cols = len(row_images)\n",
    "        fig, axs = plt.subplots(1, num_cols, figsize=(2 * num_cols, 2))\n",
    "\n",
    "        # Ensure axs is iterable\n",
    "        if num_cols == 1:\n",
    "            axs = [axs]\n",
    "\n",
    "        for j, img in enumerate(row_images):\n",
    "            axs[j].imshow(img, cmap=cmap)\n",
    "            axs[j].axis('off')\n",
    "            if titles and j < len(titles):\n",
    "                axs[j].set_title(titles[j])\n",
    "\n",
    "        plt.tight_layout()\n",
    "        plt.show()\n",
    "        plt.close(fig)\n",
    "    \n",
    "    for _ in range(n_sample):\n",
    "        out = sample_fn(x = torch.randn(20, device = device), log_prob= lambda x: -model(x))\n",
    "        out = autoencoder.decoder(out)\n",
    "        out = torch.sigmoid(out)\n",
    "        _plot_image_row(out[index].cpu().numpy().squeeze(), titles=['step=' + str(i) for i in index])"
   ]
  },
  {
   "cell_type": "code",
   "execution_count": 143,
   "id": "413a2524",
   "metadata": {},
   "outputs": [
    {
     "data": {
      "image/png": "[encoded data removed]",
      "text/plain": [
       "<Figure size 1200x200 with 6 Axes>"
      ]
     },
     "metadata": {},
     "output_type": "display_data"
    },
    {
     "data": {
      "image/png": "[encoded data removed]",
      "text/plain": [
       "<Figure size 1200x200 with 6 Axes>"
      ]
     },
     "metadata": {},
     "output_type": "display_data"
    },
    {
     "data": {
      "image/png": "[encoded data removed]",
      "text/plain": [
       "<Figure size 1200x200 with 6 Axes>"
      ]
     },
     "metadata": {},
     "output_type": "display_data"
    },
    {
     "data": {
      "image/png": "[encoded data removed]",
      "text/plain": [
       "<Figure size 1200x200 with 6 Axes>"
      ]
     },
     "metadata": {},
     "output_type": "display_data"
    },
    {
     "data": {
      "image/png": "[encoded data removed]",
      "text/plain": [
       "<Figure size 1200x200 with 6 Axes>"
      ]
     },
     "metadata": {},
     "output_type": "display_data"
    }
   ],
   "source": [
    "model.to(device)\n",
    "sample_fn = partial(matropolis_sampling, n_steps = 500, n_sample_out = 500, var = 0.2)\n",
    "sample_plot(5, autoencoder, model, sample_fn, index=[0, 99, 199, 299, 399, 499])"
   ]
  }
 ],
 "metadata": {
  "kernelspec": {
   "display_name": "bltang_new",
   "language": "python",
   "name": "python3"
  },
  "language_info": {
   "codemirror_mode": {
    "name": "ipython",
    "version": 3
   },
   "file_extension": ".py",
   "mimetype": "text/x-python",
   "name": "python",
   "nbconvert_exporter": "python",
   "pygments_lexer": "ipython3",
   "version": "3.9.13"
  }
 },
 "nbformat": 4,
 "nbformat_minor": 5
}
