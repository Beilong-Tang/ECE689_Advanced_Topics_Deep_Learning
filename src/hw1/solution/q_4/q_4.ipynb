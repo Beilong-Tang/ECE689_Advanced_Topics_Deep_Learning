{
 "cells": [
  {
   "cell_type": "markdown",
   "id": "bd2d3fff",
   "metadata": {},
   "source": [
    "## Question 4: Energy-based Models\n",
    "\n",
    "- make a simple energy-based model (exp^-NN).\n",
    "- train and use Gibbs sampling method on USPS."
   ]
  },
  {
   "cell_type": "markdown",
   "id": "f2177b07",
   "metadata": {},
   "source": [
    "## Quick Notes\n",
    "\n",
    "I used a simple MLP as the energy model. \n",
    "\n",
    "Note that I did not apply Gibbs sampling as the condition are hard (unlikely) to model because I use a simple MLP model. Instead, I used Matropolis-Hasting algorithm, which can be considered as a variant of Gibbs sampling. "
   ]
  },
  {
   "cell_type": "markdown",
   "id": "51f3cfb9",
   "metadata": {},
   "source": [
    "## Data Preparation\n",
    "\n",
    "I download USPS dataset from https://github.com/darshanbagul/USPS_Digit_Classification/blob/master/USPSdata/USPSdata.zip and unzip to 'data/' folder"
   ]
  },
  {
   "cell_type": "code",
   "execution_count": 1,
   "id": "85d48173",
   "metadata": {},
   "outputs": [],
   "source": [
    "# Import pacakges\n",
    "import torch\n",
    "from torch import nn\n",
    "import torch.nn.functional as F\n",
    "import numpy as np\n",
    "from torchvision import datasets, transforms\n",
    "import itertools\n",
    "import matplotlib.pyplot as plt\n",
    "from functools import partial\n",
    "import datetime\n",
    "import os\n",
    "import glob\n",
    "import cv2\n",
    "import tqdm"
   ]
  },
  {
   "cell_type": "code",
   "execution_count": 2,
   "id": "06c826af",
   "metadata": {},
   "outputs": [],
   "source": [
    "# Data preparation\n",
    "if not os.path.exists(\"data/Numerals\"):\n",
    "    raise Exception(\"USPS data not found, please download the raw dataset from https://github.com/darshanbagul/USPS_Digit_Classification/blob/master/USPSdata/USPSdata.zip and unzip to 'data/' folder\")"
   ]
  },
  {
   "cell_type": "code",
   "execution_count": 3,
   "id": "7ba5890d",
   "metadata": {},
   "outputs": [
    {
     "name": "stderr",
     "output_type": "stream",
     "text": [
      "Processing USPS images:   3%|▎         | 558/19999 [00:00<00:24, 784.64it/s]"
     ]
    },
    {
     "name": "stderr",
     "output_type": "stream",
     "text": [
      "Processing USPS images: 100%|██████████| 19999/19999 [01:34<00:00, 212.01it/s]\n"
     ]
    }
   ],
   "source": [
    "# Process dataset\n",
    "# Process the usps data into 28 x 28\n",
    "def process_data(dir, size):\n",
    "    def resize_and_scale(img, size, scale):\n",
    "        img = cv2.resize(img, size)\n",
    "        return 1 - np.array(img, \"float32\")/scale\n",
    "\n",
    "    images = glob.glob(os.path.join(dir, \"*\", \"*.png\"))\n",
    "    res = []\n",
    "    for img_path in tqdm.tqdm(images, desc='Processing USPS images'):\n",
    "        img = cv2.imread(img_path)\n",
    "        img = cv2.cvtColor(img, cv2.COLOR_BGR2GRAY)\n",
    "        resized_img = resize_and_scale(img, size, 256)\n",
    "        res.append(np.expand_dims(resized_img, axis = 0))\n",
    "    return res\n",
    "\n",
    "\n",
    "size = (28,28)\n",
    "images = process_data(\"data/Numerals\", size)"
   ]
  },
  {
   "cell_type": "code",
   "execution_count": 4,
   "id": "393e39ce",
   "metadata": {},
   "outputs": [
    {
     "data": {
      "image/png": "[encoded data removed]",
      "text/plain": [
       "<Figure size 200x200 with 1 Axes>"
      ]
     },
     "metadata": {},
     "output_type": "display_data"
    }
   ],
   "source": [
    "# plot one data\n",
    "images[0].shape\n",
    "\n",
    "plt.figure(figsize=(2,2))\n",
    "plt.imshow(images[12000].squeeze(), cmap='gray')\n",
    "plt.axis('off')  # Optional: hide axes\n",
    "plt.tight_layout()\n",
    "plt.show()"
   ]
  },
  {
   "cell_type": "code",
   "execution_count": 5,
   "id": "64972e42",
   "metadata": {},
   "outputs": [
    {
     "name": "stdout",
     "output_type": "stream",
     "text": [
      "device: cuda:4\n"
     ]
    }
   ],
   "source": [
    "# Set the random seeds\n",
    "torch.manual_seed(0)\n",
    "np.random.seed(0)\n",
    "\n",
    "torch.backends.cudnn.deterministic = True\n",
    "torch.backends.cudnn.benchmark = False\n",
    "device = torch.device('cuda:4' if torch.cuda.is_available() else 'cpu')\n",
    "print(\"device:\", device)"
   ]
  },
  {
   "cell_type": "markdown",
   "id": "34fbdc0b",
   "metadata": {},
   "source": [
    "## AutoEncoder\n",
    "\n",
    "Note that in order to reduce computation overhead. I learn an autoencoder to encode the image feature (28x28) to a vector of size 20."
   ]
  },
  {
   "cell_type": "code",
   "execution_count": 6,
   "id": "a98e160d",
   "metadata": {},
   "outputs": [],
   "source": [
    "EMBEDDING_DIM = 20 # The dimension of the embeddings\n",
    "\n",
    "class AutoEncoder(nn.Module):\n",
    "    \"\"\"\n",
    "    A simple autoencoder for images. \n",
    "    self.linear1 generates the intermediate embeddings that we use for the normalizing flow.\n",
    "    \"\"\"\n",
    "    def __init__(self):\n",
    "        super().__init__()\n",
    "        \n",
    "        # Encoding layers\n",
    "        self.conv1 = nn.Conv2d(in_channels=1, out_channels=32, stride=2, kernel_size=3, bias=False, padding=1)\n",
    "        self.conv2 = nn.Conv2d(in_channels=32, out_channels=64, stride=2, kernel_size=3, bias=False, padding=1)\n",
    "        self.linear1 = nn.Linear(in_features=3136, out_features=EMBEDDING_DIM)\n",
    "        \n",
    "        # Decoding layers\n",
    "        self.linear2 = nn.Linear(in_features=EMBEDDING_DIM, out_features=3136)\n",
    "        self.convt1 = nn.ConvTranspose2d(in_channels=64, out_channels=32, stride=2, kernel_size=3, padding=1, output_padding=1)\n",
    "        self.convt2 = nn.ConvTranspose2d(in_channels=32, out_channels=1, stride=2, kernel_size=3, padding=1, output_padding=1)\n",
    "\n",
    "\n",
    "    def forward(self, x):\n",
    "        \n",
    "        emb = self.encoder(x)\n",
    "        _x = self.decoder(emb)\n",
    "        \n",
    "        return _x, emb\n",
    "    \n",
    "    def decoder(self, emb):\n",
    "\n",
    "        _x = torch.relu(self.linear2(emb))\n",
    "        _x = _x.view(-1, 64, 7, 7)\n",
    "        _x = torch.relu(self.convt1(_x))\n",
    "        _x = self.convt2(_x)\n",
    "        \n",
    "        return _x\n",
    "    \n",
    "    def encoder(self, x):\n",
    "        _x = torch.relu(self.conv1(x))\n",
    "        _x = torch.relu(self.conv2(_x))\n",
    "        sh = _x.shape\n",
    "\n",
    "        _x = torch.relu(torch.flatten(_x, 1))\n",
    "        \n",
    "        emb = self.linear1(_x)\n",
    "        \n",
    "        return emb"
   ]
  },
  {
   "cell_type": "code",
   "execution_count": 7,
   "id": "f54aba1d",
   "metadata": {},
   "outputs": [],
   "source": [
    "BATCH_SIZE = 100 # Batch size\n",
    "# Load the dataset\n",
    "train_loader = torch.utils.data.DataLoader(images, BATCH_SIZE)"
   ]
  },
  {
   "cell_type": "code",
   "execution_count": 8,
   "id": "2e8478b0",
   "metadata": {},
   "outputs": [],
   "source": [
    "AE_EPOCHS = 20 # Epochs for training the autoencoder\n",
    "# We use a binary cross-entropy loss for the reconstruction error\n",
    "loss_f = nn.BCELoss()\n",
    "\n",
    "# Build the autoencoder\n",
    "autoencoder = AutoEncoder()\n",
    "autoencoder = autoencoder.to(device)\n",
    "\n",
    "optimizer = torch.optim.Adam(itertools.chain(autoencoder.parameters()),\n",
    "                             lr=1e-3, weight_decay=1e-5)"
   ]
  },
  {
   "cell_type": "code",
   "execution_count": 9,
   "id": "86240463",
   "metadata": {},
   "outputs": [
    {
     "name": "stdout",
     "output_type": "stream",
     "text": [
      "Epoch #1\n"
     ]
    },
    {
     "name": "stderr",
     "output_type": "stream",
     "text": [
      "/DKUdata/tangbl/anaconda/envs/bltang_new/lib/python3.9/site-packages/torch/nn/modules/conv.py:456: UserWarning: Applied workaround for CuDNN issue, install nvrtc.so (Triggered internally at ../aten/src/ATen/native/cudnn/Conv_v8.cpp:84.)\n",
      "  return F.conv2d(input, weight, bias, self.stride,\n"
     ]
    },
    {
     "name": "stdout",
     "output_type": "stream",
     "text": [
      "E 0, 0.000/200: Loss: 0.6250122785568237\n",
      "Epoch #2\n",
      "E 1, 0.000/200: Loss: 0.34586864709854126\n",
      "Epoch #3\n",
      "E 2, 0.000/200: Loss: 0.25151515007019043\n",
      "Epoch #4\n",
      "E 3, 0.000/200: Loss: 0.2099163979291916\n",
      "Epoch #5\n",
      "E 4, 0.000/200: Loss: 0.193502277135849\n",
      "Epoch #6\n",
      "E 5, 0.000/200: Loss: 0.18097582459449768\n",
      "Epoch #7\n",
      "E 6, 0.000/200: Loss: 0.17107737064361572\n",
      "Epoch #8\n",
      "E 7, 0.000/200: Loss: 0.16443757712841034\n",
      "Epoch #9\n",
      "E 8, 0.000/200: Loss: 0.15985123813152313\n",
      "Epoch #10\n",
      "E 9, 0.000/200: Loss: 0.15602374076843262\n",
      "Epoch #11\n",
      "E 10, 0.000/200: Loss: 0.1528799682855606\n",
      "Epoch #12\n",
      "E 11, 0.000/200: Loss: 0.15025272965431213\n",
      "Epoch #13\n",
      "E 12, 0.000/200: Loss: 0.14777037501335144\n",
      "Epoch #14\n",
      "E 13, 0.000/200: Loss: 0.145772784948349\n",
      "Epoch #15\n",
      "E 14, 0.000/200: Loss: 0.14413847029209137\n",
      "Epoch #16\n",
      "E 15, 0.000/200: Loss: 0.14297033846378326\n",
      "Epoch #17\n",
      "E 16, 0.000/200: Loss: 0.14184188842773438\n",
      "Epoch #18\n",
      "E 17, 0.000/200: Loss: 0.14083676040172577\n",
      "Epoch #19\n",
      "E 18, 0.000/200: Loss: 0.13991372287273407\n",
      "Epoch #20\n",
      "E 19, 0.000/200: Loss: 0.13906706869602203\n"
     ]
    }
   ],
   "source": [
    "for i in range(AE_EPOCHS):\n",
    "    print('Epoch #{}'.format(i+1))\n",
    "\n",
    "    losses = []\n",
    "    for batch_idx, data in enumerate(train_loader):\n",
    "\n",
    "        x = data\n",
    "        x = x.to(device)\n",
    "\n",
    "        # Run the autoencoder\n",
    "        _x, emb = autoencoder(x)\n",
    "        _x = torch.sigmoid(_x)\n",
    "\n",
    "        # Compute loss\n",
    "        rec_loss = loss_f(_x, x)\n",
    "\n",
    "        if batch_idx % 200 == 0:\n",
    "            print(f\"E {i}, {batch_idx:.3f}/{len(train_loader)}: Loss: {rec_loss.item()}\")\n",
    "\n",
    "        autoencoder.zero_grad()\n",
    "        rec_loss.backward()\n",
    "        optimizer.step()"
   ]
  },
  {
   "cell_type": "code",
   "execution_count": 10,
   "id": "d10e7764",
   "metadata": {},
   "outputs": [],
   "source": [
    "# Save the ckpt\n",
    "torch.save(autoencoder.state_dict(), \"autoencoder.pth\")\n",
    "# autoencoder.load_state_dict(torch.load(\"autoencoder.pth\", map_location='cpu'))"
   ]
  },
  {
   "cell_type": "code",
   "execution_count": 11,
   "id": "97a00b6e",
   "metadata": {},
   "outputs": [
    {
     "name": "stdout",
     "output_type": "stream",
     "text": [
      "torch.Size([1, 1, 28, 28])\n"
     ]
    },
    {
     "data": {
      "image/png": "[encoded data removed]",
      "text/plain": [
       "<Figure size 640x480 with 1 Axes>"
      ]
     },
     "metadata": {},
     "output_type": "display_data"
    }
   ],
   "source": [
    "# Test one output\n",
    "\n",
    "test_image = torch.from_numpy(images[12000]).unsqueeze(0)\n",
    "test_image = test_image.to(device)\n",
    "_o, emb = autoencoder(test_image)\n",
    "_o = torch.sigmoid(_o)\n",
    "print(_o.shape)\n",
    "\n",
    "## Display the image\n",
    "plt.imshow(_o.squeeze().detach().cpu(), cmap='gray');\n",
    "plt.title(\"AutoEncoder Output\");"
   ]
  },
  {
   "cell_type": "markdown",
   "id": "18d9c771",
   "metadata": {},
   "source": [
    "## Energy-based Model Training\n",
    "\n",
    "Now that we have trained an autoencoder, we apply it to all the images to get a dataset containing all the feature embeddings. we will train the Energy model on the embedding dataset."
   ]
  },
  {
   "cell_type": "code",
   "execution_count": 12,
   "id": "28b628a4",
   "metadata": {},
   "outputs": [
    {
     "name": "stderr",
     "output_type": "stream",
     "text": [
      "100%|██████████| 200/200 [00:00<00:00, 701.16it/s]"
     ]
    },
    {
     "name": "stdout",
     "output_type": "stream",
     "text": [
      "19999\n"
     ]
    },
    {
     "name": "stderr",
     "output_type": "stream",
     "text": [
      "\n"
     ]
    }
   ],
   "source": [
    "## Extract all the data to embeddings\n",
    "import tqdm\n",
    "\n",
    "embs = []\n",
    "with torch.no_grad():\n",
    "    for data in tqdm.tqdm(train_loader):\n",
    "        x  = data\n",
    "        x = x.to(device)\n",
    "\n",
    "        emb = autoencoder.encoder(x).cpu()\n",
    "        for e in emb:\n",
    "            embs.append(e)\n",
    "\n",
    "print(len(embs))"
   ]
  },
  {
   "cell_type": "code",
   "execution_count": 13,
   "id": "b9a966a7",
   "metadata": {},
   "outputs": [],
   "source": [
    "# Create the embedding dataloader\n",
    "BATCH_SIZE=30\n",
    "emb_dataset = torch.utils.data.DataLoader(embs, batch_size=BATCH_SIZE, shuffle = True)"
   ]
  },
  {
   "cell_type": "markdown",
   "id": "a174541e",
   "metadata": {},
   "source": [
    "Simple Energy model: MLP"
   ]
  },
  {
   "cell_type": "code",
   "execution_count": 14,
   "id": "25d25fca",
   "metadata": {},
   "outputs": [],
   "source": [
    "## Energy Model\n",
    "\n",
    "class MLP(nn.Module):\n",
    "    def __init__(self, input_dim=20, hidden_dims=[256, 128], output_dim=1): # the output dimension has to be 1d\n",
    "        super(MLP, self).__init__()\n",
    "        self.fc1 = nn.Linear(input_dim, hidden_dims[0])\n",
    "        self.fc2 = nn.Linear(hidden_dims[0], hidden_dims[1])\n",
    "        self.fc3 = nn.Linear(hidden_dims[1], output_dim)\n",
    "\n",
    "    def forward(self, x):\n",
    "        x = F.silu(self.fc1(x))\n",
    "        x = F.silu(self.fc2(x))\n",
    "        x = self.fc3(x)  # logits for classification\n",
    "        return x"
   ]
  },
  {
   "cell_type": "code",
   "execution_count": 15,
   "id": "6564c727",
   "metadata": {},
   "outputs": [],
   "source": [
    "## Training Logic\n",
    "\n",
    "import time\n",
    "\n",
    "def matropolis_sampling(x, log_prob, n_steps, n_sample_out, var):\n",
    "\n",
    "    def _sample_next(x, var):\n",
    "        # x: numpy 1d \n",
    "        return torch.randn(x.shape[0], device=x.device) * np.sqrt(var) + x\n",
    "    \n",
    "\n",
    "    res = []\n",
    "    for _ in range(n_steps):\n",
    "        x_next = _sample_next(x, var)\n",
    "        accept_prob_log = min(0, (log_prob(x_next) - log_prob(x)).item())\n",
    "        if torch.log(torch.rand(1)).item() < accept_prob_log:\n",
    "            x = x_next\n",
    "        res.append(x)\n",
    "    return torch.stack(res, axis = 0)[-n_sample_out:]\n",
    "    \n",
    "\n",
    "def train_energy_model(model, optimizer, sample_fn, epoch = 10, device=device, log_interval = 100):\n",
    "    model.to(device)\n",
    "    for e in range(epoch):\n",
    "        print(f\"[Epoch {e}]\")\n",
    "        start = time.time()\n",
    "        for bb, data in enumerate(emb_dataset):\n",
    "            data = data.to(device)\n",
    "            real_output = model(data).mean() # tensor()\n",
    "            x_sample = sample_fn(torch.randn(data.shape[-1], device = device), log_prob = lambda x: -model(x)) # [B', 20]\n",
    "            est_output = model(x_sample).mean() # tensor()\n",
    "            loss = real_output - est_output\n",
    "            model.zero_grad()\n",
    "            loss.backward()\n",
    "            optimizer.step()\n",
    "\n",
    "            if bb % log_interval == 0:\n",
    "                print(f\"[Epoch {e}] | [{bb}|{len(emb_dataset)}] loss: {loss.item()}, est epoch: {datetime.timedelta(seconds=(len(emb_dataset) -1 - bb) / log_interval * (time.time() - start))}\")\n",
    "                start = time.time()\n",
    "    pass"
   ]
  },
  {
   "cell_type": "code",
   "execution_count": 16,
   "id": "8c56b4c5",
   "metadata": {},
   "outputs": [
    {
     "name": "stdout",
     "output_type": "stream",
     "text": [
      "[Epoch 0]\n",
      "[Epoch 0] | [0|667] loss: -0.38961488008499146, est epoch: 0:00:02.135722\n",
      "[Epoch 0] | [100|667] loss: -1.022845983505249, est epoch: 0:02:17.248948\n",
      "[Epoch 0] | [200|667] loss: 1.5484864711761475, est epoch: 0:01:36.613324\n",
      "[Epoch 0] | [300|667] loss: 1.099283218383789, est epoch: 0:01:14.015886\n",
      "[Epoch 0] | [400|667] loss: 0.5071754455566406, est epoch: 0:00:54.727194\n",
      "[Epoch 0] | [500|667] loss: 0.912598192691803, est epoch: 0:00:33.739567\n",
      "[Epoch 0] | [600|667] loss: -2.3348114490509033, est epoch: 0:00:16.401669\n",
      "[Epoch 1]\n",
      "[Epoch 1] | [0|667] loss: 1.1042087078094482, est epoch: 0:00:01.369264\n",
      "[Epoch 1] | [100|667] loss: 0.14292675256729126, est epoch: 0:02:07.019606\n",
      "[Epoch 1] | [200|667] loss: 2.5770387649536133, est epoch: 0:01:43.581264\n",
      "[Epoch 1] | [300|667] loss: 0.897160530090332, est epoch: 0:01:25.615936\n",
      "[Epoch 1] | [400|667] loss: -0.774619460105896, est epoch: 0:00:54.851337\n",
      "[Epoch 1] | [500|667] loss: -2.017996311187744, est epoch: 0:00:33.696322\n",
      "[Epoch 1] | [600|667] loss: -0.9524981379508972, est epoch: 0:00:13.641507\n",
      "[Epoch 2]\n",
      "[Epoch 2] | [0|667] loss: -1.1710901260375977, est epoch: 0:00:01.336700\n",
      "[Epoch 2] | [100|667] loss: 0.41353946924209595, est epoch: 0:01:57.400205\n",
      "[Epoch 2] | [200|667] loss: -3.3263967037200928, est epoch: 0:01:35.968574\n",
      "[Epoch 2] | [300|667] loss: -3.863455295562744, est epoch: 0:01:24.979415\n",
      "[Epoch 2] | [400|667] loss: 1.7805931568145752, est epoch: 0:01:00.221408\n",
      "[Epoch 2] | [500|667] loss: -6.232174873352051, est epoch: 0:00:35.433045\n",
      "[Epoch 2] | [600|667] loss: 4.660029888153076, est epoch: 0:00:14.321937\n"
     ]
    }
   ],
   "source": [
    "## Training\n",
    "\n",
    "model = MLP()\n",
    "optimizer = torch.optim.Adam(model.parameters(), lr = 1.0e-3)\n",
    "\n",
    "sample_fn = partial(matropolis_sampling, n_steps = 300, n_sample_out = 50, var = 0.1)\n",
    "\n",
    "train_energy_model(model, optimizer, sample_fn, epoch = 3, device=device)\n",
    "torch.save(model.state_dict(), 'energy_mlp_model.pth')"
   ]
  },
  {
   "cell_type": "code",
   "execution_count": 17,
   "id": "c02497fc",
   "metadata": {},
   "outputs": [],
   "source": [
    "## Sampling\n",
    "\n",
    "@torch.no_grad()\n",
    "def sample_plot(n_sample, autoencoder, model, sample_fn, index):\n",
    "    def _plot_image_row(row_images, titles=None, cmap='gray'):\n",
    "        num_cols = len(row_images)\n",
    "        fig, axs = plt.subplots(1, num_cols, figsize=(2 * num_cols, 2))\n",
    "\n",
    "        # Ensure axs is iterable\n",
    "        if num_cols == 1:\n",
    "            axs = [axs]\n",
    "\n",
    "        for j, img in enumerate(row_images):\n",
    "            axs[j].imshow(img, cmap=cmap)\n",
    "            axs[j].axis('off')\n",
    "            if titles and j < len(titles):\n",
    "                axs[j].set_title(titles[j])\n",
    "\n",
    "        plt.tight_layout()\n",
    "        plt.show()\n",
    "        plt.close(fig)\n",
    "    \n",
    "    for _ in range(n_sample):\n",
    "        out = sample_fn(x = torch.randn(20, device = device), log_prob= lambda x: -model(x))\n",
    "        out = autoencoder.decoder(out)\n",
    "        out = torch.sigmoid(out)\n",
    "        _plot_image_row(out[index].cpu().numpy().squeeze(), titles=['step=' + str(i) for i in index])"
   ]
  },
  {
   "cell_type": "code",
   "execution_count": 18,
   "id": "413a2524",
   "metadata": {},
   "outputs": [
    {
     "data": {
      "image/png": "[encoded data removed]",
      "text/plain": [
       "<Figure size 1200x200 with 6 Axes>"
      ]
     },
     "metadata": {},
     "output_type": "display_data"
    },
    {
     "data": {
      "image/png": "[encoded data removed]",
      "text/plain": [
       "<Figure size 1200x200 with 6 Axes>"
      ]
     },
     "metadata": {},
     "output_type": "display_data"
    },
    {
     "data": {
      "image/png": "[encoded data removed]",
      "text/plain": [
       "<Figure size 1200x200 with 6 Axes>"
      ]
     },
     "metadata": {},
     "output_type": "display_data"
    },
    {
     "data": {
      "image/png": "[encoded data removed]",
      "text/plain": [
       "<Figure size 1200x200 with 6 Axes>"
      ]
     },
     "metadata": {},
     "output_type": "display_data"
    },
    {
     "data": {
      "image/png": "[encoded data removed]",
      "text/plain": [
       "<Figure size 1200x200 with 6 Axes>"
      ]
     },
     "metadata": {},
     "output_type": "display_data"
    }
   ],
   "source": [
    "model.to(device)\n",
    "sample_fn = partial(matropolis_sampling, n_steps = 500, n_sample_out = 500, var = 0.2)\n",
    "sample_plot(5, autoencoder, model, sample_fn, index=[0, 99, 199, 299, 399, 499])"
   ]
  }
 ],
 "metadata": {
  "kernelspec": {
   "display_name": "bltang_new",
   "language": "python",
   "name": "python3"
  },
  "language_info": {
   "codemirror_mode": {
    "name": "ipython",
    "version": 3
   },
   "file_extension": ".py",
   "mimetype": "text/x-python",
   "name": "python",
   "nbconvert_exporter": "python",
   "pygments_lexer": "ipython3",
   "version": "3.9.13"
  }
 },
 "nbformat": 4,
 "nbformat_minor": 5
}
